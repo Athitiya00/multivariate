{
  "nbformat": 4,
  "nbformat_minor": 0,
  "metadata": {
    "colab": {
      "name": "python101.ipynb",
      "provenance": [],
      "authorship_tag": "ABX9TyMEGrG2t3biTvQOqr6YWok2",
      "include_colab_link": true
    },
    "kernelspec": {
      "name": "python3",
      "display_name": "Python 3"
    }
  },
  "cells": [
    {
      "cell_type": "markdown",
      "metadata": {
        "id": "view-in-github",
        "colab_type": "text"
      },
      "source": [
        "<a href=\"https://colab.research.google.com/github/Athitiya00/multivariate/blob/main/python101.ipynb\" target=\"_parent\"><img src=\"https://colab.research.google.com/assets/colab-badge.svg\" alt=\"Open In Colab\"/></a>"
      ]
    },
    {
      "cell_type": "markdown",
      "metadata": {
        "id": "qjaq4VL0LfQS"
      },
      "source": [
        "ตัวแปร variable"
      ]
    },
    {
      "cell_type": "code",
      "metadata": {
        "id": "0WGCMFUWWZxV"
      },
      "source": [
        ""
      ],
      "execution_count": 4,
      "outputs": []
    },
    {
      "cell_type": "markdown",
      "metadata": {
        "id": "gu6dyAHr-hcZ"
      },
      "source": [
        "หลักการตั้งขื่อตัวแปรเบื้องต้น\r\n",
        "\r\n",
        "1. ตั้งชื่อให้สื่อ\r\n",
        "2. ตั้งเป็นภาษาอังกฤษ\r\n",
        "3. ใช้ตัวเลขได้แต่ห้ามขึ้นต้นด้วยตัวเลข\r\n",
        "4. ห้ามเว้นวรรค"
      ]
    },
    {
      "cell_type": "markdown",
      "metadata": {
        "id": "upLItsewAQOM"
      },
      "source": [
        "มี output 2 mode : แสดงออกทางหน้าจอ กับ เข้าไปเก็บในตัวแปร"
      ]
    },
    {
      "cell_type": "code",
      "metadata": {
        "id": "WMLEXpYR_Mkl",
        "colab": {
          "base_uri": "https://localhost:8080/"
        },
        "outputId": "4e8d17f3-8ca0-4a78-f1c1-5ea7d323bc81"
      },
      "source": [
        "3.14159"
      ],
      "execution_count": 15,
      "outputs": [
        {
          "output_type": "execute_result",
          "data": {
            "text/plain": [
              "3.14159"
            ]
          },
          "metadata": {
            "tags": []
          },
          "execution_count": 15
        }
      ]
    },
    {
      "cell_type": "code",
      "metadata": {
        "id": "kX7NJjw6_gga"
      },
      "source": [
        "Pi = 3.14159"
      ],
      "execution_count": 17,
      "outputs": []
    },
    {
      "cell_type": "code",
      "metadata": {
        "id": "C14EnfqPKJTs",
        "colab": {
          "base_uri": "https://localhost:8080/"
        },
        "outputId": "05c7c78a-5ee1-49b1-8be6-54b7d93371cd"
      },
      "source": [
        "Pi"
      ],
      "execution_count": 18,
      "outputs": [
        {
          "output_type": "execute_result",
          "data": {
            "text/plain": [
              "3.14159"
            ]
          },
          "metadata": {
            "tags": []
          },
          "execution_count": 18
        }
      ]
    },
    {
      "cell_type": "code",
      "metadata": {
        "colab": {
          "base_uri": "https://localhost:8080/"
        },
        "id": "regWk8xmAFBh",
        "outputId": "8ae30663-b835-4f38-e288-e6aedc840dcf"
      },
      "source": [
        "a = 1234567\r\n",
        "print(a)"
      ],
      "execution_count": 19,
      "outputs": [
        {
          "output_type": "stream",
          "text": [
            "1234567\n"
          ],
          "name": "stdout"
        }
      ]
    },
    {
      "cell_type": "markdown",
      "metadata": {
        "id": "p2OyRqgjAthF"
      },
      "source": [
        "##ชนิดของตัวแปร 3 ชนิด"
      ]
    },
    {
      "cell_type": "markdown",
      "metadata": {
        "id": "VUxtH7kVA5qF"
      },
      "source": [
        "###จำนวนเต็ม (integer,int)"
      ]
    },
    {
      "cell_type": "code",
      "metadata": {
        "colab": {
          "base_uri": "https://localhost:8080/"
        },
        "id": "-HxUP5tqA2hY",
        "outputId": "e54aaf11-9328-44cc-cd42-d35dfb92b360"
      },
      "source": [
        "aaa = 1092\r\n",
        "print(aaa)"
      ],
      "execution_count": 20,
      "outputs": [
        {
          "output_type": "stream",
          "text": [
            "1092\n"
          ],
          "name": "stdout"
        }
      ]
    },
    {
      "cell_type": "markdown",
      "metadata": {
        "id": "FYn9eqXLCkKZ"
      },
      "source": [
        "###จำนวนจริง(float)"
      ]
    },
    {
      "cell_type": "code",
      "metadata": {
        "colab": {
          "base_uri": "https://localhost:8080/"
        },
        "id": "pTjPSWVqCtjY",
        "outputId": "4d2ea30b-d34b-422a-f5d9-c6c7249f3b20"
      },
      "source": [
        "bbb = 11.\r\n",
        "print(bbb)"
      ],
      "execution_count": 21,
      "outputs": [
        {
          "output_type": "stream",
          "text": [
            "11.0\n"
          ],
          "name": "stdout"
        }
      ]
    },
    {
      "cell_type": "markdown",
      "metadata": {
        "id": "rLDzioDfC62_"
      },
      "source": [
        "###ตัวอักษร-ข้อความ(Character และ Text, String)"
      ]
    },
    {
      "cell_type": "code",
      "metadata": {
        "colab": {
          "base_uri": "https://localhost:8080/"
        },
        "id": "5LizvjWKC4zD",
        "outputId": "7d3e2ad1-6b2e-4e29-8733-7cabbc6496f7"
      },
      "source": [
        "ccc = '123456 ' # เราใช้ single quote หรือ double quote ล้อมรอบตัวหนังสือเพื่อระบุว่าเป็น Character-string\r\n",
        "print(ccc)"
      ],
      "execution_count": 22,
      "outputs": [
        {
          "output_type": "stream",
          "text": [
            "123456 \n"
          ],
          "name": "stdout"
        }
      ]
    },
    {
      "cell_type": "code",
      "metadata": {
        "colab": {
          "base_uri": "https://localhost:8080/"
        },
        "id": "ZDgdWP_2EeCT",
        "outputId": "0882625b-a649-4ab1-a889-2db9ffb8959d"
      },
      "source": [
        "aaa + bbb # float(bbb) + int(aaa) = float"
      ],
      "execution_count": 12,
      "outputs": [
        {
          "output_type": "execute_result",
          "data": {
            "text/plain": [
              "1103.0"
            ]
          },
          "metadata": {
            "tags": []
          },
          "execution_count": 12
        }
      ]
    },
    {
      "cell_type": "code",
      "metadata": {
        "colab": {
          "base_uri": "https://localhost:8080/",
          "height": 163
        },
        "id": "cH-Qxmv0FCWP",
        "outputId": "013f282c-c5be-424e-8d85-3c7147604b7b"
      },
      "source": [
        "bbb + ccc # float(bbb) ไม่สามารถ+กับ string(ccc) ได้ เพราะว่าเป็นตัวแปรต่างชนิดกันจึงเกิดerror"
      ],
      "execution_count": 13,
      "outputs": [
        {
          "output_type": "error",
          "ename": "TypeError",
          "evalue": "ignored",
          "traceback": [
            "\u001b[0;31m---------------------------------------------------------------------------\u001b[0m",
            "\u001b[0;31mTypeError\u001b[0m                                 Traceback (most recent call last)",
            "\u001b[0;32m<ipython-input-13-354848c2bb1f>\u001b[0m in \u001b[0;36m<module>\u001b[0;34m()\u001b[0m\n\u001b[0;32m----> 1\u001b[0;31m \u001b[0mbbb\u001b[0m \u001b[0;34m+\u001b[0m \u001b[0mccc\u001b[0m \u001b[0;31m# float(bbb) ไม่สามารถ+กับ string(ccc) ได้ เพราะว่าเป็นตัวแปรต่างชนิดกันจึงเกิดerror\u001b[0m\u001b[0;34m\u001b[0m\u001b[0;34m\u001b[0m\u001b[0m\n\u001b[0m",
            "\u001b[0;31mTypeError\u001b[0m: unsupported operand type(s) for +: 'float' and 'str'"
          ]
        }
      ]
    },
    {
      "cell_type": "code",
      "metadata": {
        "colab": {
          "base_uri": "https://localhost:8080/"
        },
        "id": "yzjzvRU6F85Y",
        "outputId": "0bc5c7d3-ed64-44f2-df53-f3e0f55942c9"
      },
      "source": [
        "ddd = 'อาธิติยา'\r\n",
        "print(ddd)"
      ],
      "execution_count": 23,
      "outputs": [
        {
          "output_type": "stream",
          "text": [
            "อาธิติยา\n"
          ],
          "name": "stdout"
        }
      ]
    },
    {
      "cell_type": "markdown",
      "metadata": {
        "id": "tJqNQhhsGOTl"
      },
      "source": [
        "## การเปลี่ยนชนิดของตัวแปร Variable casting\r\n"
      ]
    },
    {
      "cell_type": "code",
      "metadata": {
        "colab": {
          "base_uri": "https://localhost:8080/"
        },
        "id": "SSooyNcaGbFA",
        "outputId": "9f1e5a73-ed83-4de8-b675-42477efa3ece"
      },
      "source": [
        "aaa + int(ccc) #ใช้ชนิดของตัวแปรที่ต้องการเปลี่ยนบังคับไว้หน้า( )ของตัวแปรที่ต้องการเปลี่ยน"
      ],
      "execution_count": 24,
      "outputs": [
        {
          "output_type": "execute_result",
          "data": {
            "text/plain": [
              "124548"
            ]
          },
          "metadata": {
            "tags": []
          },
          "execution_count": 24
        }
      ]
    },
    {
      "cell_type": "code",
      "metadata": {
        "colab": {
          "base_uri": "https://localhost:8080/"
        },
        "id": "A9QtigIHGjri",
        "outputId": "11c965a5-4484-42e7-9d5b-488cbd7ac759"
      },
      "source": [
        "aaa + float(ccc)"
      ],
      "execution_count": 25,
      "outputs": [
        {
          "output_type": "execute_result",
          "data": {
            "text/plain": [
              "124548.0"
            ]
          },
          "metadata": {
            "tags": []
          },
          "execution_count": 25
        }
      ]
    },
    {
      "cell_type": "code",
      "metadata": {
        "colab": {
          "base_uri": "https://localhost:8080/",
          "height": 35
        },
        "id": "W6824kt7HXEw",
        "outputId": "9e8abd00-4d38-4894-e528-ad834760f42e"
      },
      "source": [
        "str(aaa)"
      ],
      "execution_count": 26,
      "outputs": [
        {
          "output_type": "execute_result",
          "data": {
            "application/vnd.google.colaboratory.intrinsic+json": {
              "type": "string"
            },
            "text/plain": [
              "'1092'"
            ]
          },
          "metadata": {
            "tags": []
          },
          "execution_count": 26
        }
      ]
    },
    {
      "cell_type": "markdown",
      "metadata": {
        "id": "Pgl5nh1cHglw"
      },
      "source": [
        "###การดำเนินการ Operation (Operators +,-,*,/,%)"
      ]
    },
    {
      "cell_type": "code",
      "metadata": {
        "colab": {
          "base_uri": "https://localhost:8080/",
          "height": 163
        },
        "id": "KDnb-KhYH_Y6",
        "outputId": "7fe96a74-5e0e-4a01-8dc5-342e021f7d13"
      },
      "source": [
        "a + b #ชื่อ'b'ไม่ได้มีกำหนดไว้จึงทำให้เกิด Error"
      ],
      "execution_count": 27,
      "outputs": [
        {
          "output_type": "error",
          "ename": "NameError",
          "evalue": "ignored",
          "traceback": [
            "\u001b[0;31m---------------------------------------------------------------------------\u001b[0m",
            "\u001b[0;31mNameError\u001b[0m                                 Traceback (most recent call last)",
            "\u001b[0;32m<ipython-input-27-ace299ef6489>\u001b[0m in \u001b[0;36m<module>\u001b[0;34m()\u001b[0m\n\u001b[0;32m----> 1\u001b[0;31m \u001b[0ma\u001b[0m \u001b[0;34m+\u001b[0m \u001b[0mb\u001b[0m \u001b[0;31m#ชื่อ'b'ไม่ได้มีกำหนดไว้จึงทำให้เกิด Error\u001b[0m\u001b[0;34m\u001b[0m\u001b[0;34m\u001b[0m\u001b[0m\n\u001b[0m",
            "\u001b[0;31mNameError\u001b[0m: name 'b' is not defined"
          ]
        }
      ]
    },
    {
      "cell_type": "code",
      "metadata": {
        "colab": {
          "base_uri": "https://localhost:8080/"
        },
        "id": "Rg4axeARIocb",
        "outputId": "1bc4d6ed-871b-49f9-d3ea-ea01291a5925"
      },
      "source": [
        "aaa + bbb"
      ],
      "execution_count": 28,
      "outputs": [
        {
          "output_type": "execute_result",
          "data": {
            "text/plain": [
              "1103.0"
            ]
          },
          "metadata": {
            "tags": []
          },
          "execution_count": 28
        }
      ]
    },
    {
      "cell_type": "code",
      "metadata": {
        "colab": {
          "base_uri": "https://localhost:8080/"
        },
        "id": "ilaCurxXIzn6",
        "outputId": "ef72f73c-7e10-43e5-9db8-5ef2ac440879"
      },
      "source": [
        "aaa - bbb"
      ],
      "execution_count": 29,
      "outputs": [
        {
          "output_type": "execute_result",
          "data": {
            "text/plain": [
              "1081.0"
            ]
          },
          "metadata": {
            "tags": []
          },
          "execution_count": 29
        }
      ]
    },
    {
      "cell_type": "code",
      "metadata": {
        "colab": {
          "base_uri": "https://localhost:8080/"
        },
        "id": "49WJe-EKI1g6",
        "outputId": "1b03d87b-24eb-4bad-c863-c99cdc41e1c3"
      },
      "source": [
        "ab = aaa*bbb\r\n",
        "print(ab)"
      ],
      "execution_count": 30,
      "outputs": [
        {
          "output_type": "stream",
          "text": [
            "12012.0\n"
          ],
          "name": "stdout"
        }
      ]
    },
    {
      "cell_type": "code",
      "metadata": {
        "colab": {
          "base_uri": "https://localhost:8080/"
        },
        "id": "Ug0ZvCTwJFH6",
        "outputId": "db98899d-d156-4c8e-bc73-1aabaf586f72"
      },
      "source": [
        "ab + int(ccc)"
      ],
      "execution_count": 31,
      "outputs": [
        {
          "output_type": "execute_result",
          "data": {
            "text/plain": [
              "135468.0"
            ]
          },
          "metadata": {
            "tags": []
          },
          "execution_count": 31
        }
      ]
    },
    {
      "cell_type": "markdown",
      "metadata": {
        "id": "kB_zC_NxJU5A"
      },
      "source": [
        "### % คือเครื่องหมาย modulo "
      ]
    },
    {
      "cell_type": "code",
      "metadata": {
        "colab": {
          "base_uri": "https://localhost:8080/"
        },
        "id": "VZpk3xaUJO7G",
        "outputId": "a8f380e1-27b6-4c10-bc81-656f15f2e850"
      },
      "source": [
        "5%3 # % คือเครื่องหมายหารเอาเศษ"
      ],
      "execution_count": 32,
      "outputs": [
        {
          "output_type": "execute_result",
          "data": {
            "text/plain": [
              "2"
            ]
          },
          "metadata": {
            "tags": []
          },
          "execution_count": 32
        }
      ]
    },
    {
      "cell_type": "code",
      "metadata": {
        "colab": {
          "base_uri": "https://localhost:8080/"
        },
        "id": "1GGjj2Z_KysC",
        "outputId": "d09e6e67-ed42-4487-c42c-a454ce7c8d87"
      },
      "source": [
        "7%3"
      ],
      "execution_count": 33,
      "outputs": [
        {
          "output_type": "execute_result",
          "data": {
            "text/plain": [
              "1"
            ]
          },
          "metadata": {
            "tags": []
          },
          "execution_count": 33
        }
      ]
    },
    {
      "cell_type": "markdown",
      "metadata": {
        "id": "60Bm7zm0MAU4"
      },
      "source": [
        "###คำสั่ง Print แบบพิเศษ (การ format string)"
      ]
    },
    {
      "cell_type": "code",
      "metadata": {
        "colab": {
          "base_uri": "https://localhost:8080/"
        },
        "id": "ss96pNafK7yy",
        "outputId": "5c64edc9-5d71-49a7-a837-445856f21ac3"
      },
      "source": [
        "print('ตัวแปร') #สิ่งที่อยู่ในวงเล็บ คือ ตัวแปร และ string"
      ],
      "execution_count": 34,
      "outputs": [
        {
          "output_type": "stream",
          "text": [
            "ตัวแปร\n"
          ],
          "name": "stdout"
        }
      ]
    },
    {
      "cell_type": "code",
      "metadata": {
        "colab": {
          "base_uri": "https://localhost:8080/"
        },
        "id": "S9RyNQVrNc4x",
        "outputId": "ca1709d6-d24c-449e-b163-204fba99d645"
      },
      "source": [
        "print(f'% คือการหารเอาเศษ เช่น 7%3 = { 7%3} ') #เพิ่ม f หน้า string และใช้ {} ใส่ code เพื่อที่จะให้แสดงค่าของคำตอบค่าใน {} เลย"
      ],
      "execution_count": 35,
      "outputs": [
        {
          "output_type": "stream",
          "text": [
            "% คือการหารเอาเศษ เช่น 7%3 = 1 \n"
          ],
          "name": "stdout"
        }
      ]
    },
    {
      "cell_type": "code",
      "metadata": {
        "colab": {
          "base_uri": "https://localhost:8080/"
        },
        "id": "lr_3jPSxOPsK",
        "outputId": "28fff3de-25f2-49db-f782-b89a236ffa5b"
      },
      "source": [
        "print('% คือการหารเอาเศษ เช่น 7%3 = {7%3} ') #ไม่เพิ่ม f หน้า string และใช้ {} ใส่ code จะได้"
      ],
      "execution_count": 36,
      "outputs": [
        {
          "output_type": "stream",
          "text": [
            "% คือการหารเอาเศษ เช่น 7%3 = {7%3} \n"
          ],
          "name": "stdout"
        }
      ]
    },
    {
      "cell_type": "code",
      "metadata": {
        "colab": {
          "base_uri": "https://localhost:8080/"
        },
        "id": "vvA9yb_3Pn4K",
        "outputId": "77298c10-10e6-453c-ae39-c258fbdb54c7"
      },
      "source": [
        "print(f'% คือการหารเอาเศษ เช่น 7%3 = { 7%3} \\\r\n",
        "แต่\\n/ คือการหารปกติ เช่น 7/3 = {7/3} \\\r\n",
        "และ\\n// คือการหารเอาส่วน เช่น 7//3 = {7//3} \\\r\n",
        "หรือ\\nใช้ int()เพื่อหารเอาส่วน เช่น int(7/3) = {int(7/3)}') # \\n คือการขึ้นบรรทัดใหม่ \\ คือใช้ตัด code แต่คอมจะไม่เห็น"
      ],
      "execution_count": 37,
      "outputs": [
        {
          "output_type": "stream",
          "text": [
            "% คือการหารเอาเศษ เช่น 7%3 = 1 แต่\n",
            "/ คือการหารปกติ เช่น 7/3 = 2.3333333333333335 และ\n",
            "// คือการหารเอาส่วน เช่น 7//3 = 2 หรือ\n",
            "ใช้ int()เพื่อหารเอาส่วน เช่น int(7/3) = 2\n"
          ],
          "name": "stdout"
        }
      ]
    },
    {
      "cell_type": "markdown",
      "metadata": {
        "id": "l0H4lxNjRq5X"
      },
      "source": [
        "##Data Structure (โครงสร้างข้อมูล)"
      ]
    },
    {
      "cell_type": "markdown",
      "metadata": {
        "id": "JAsorHedR4Tf"
      },
      "source": [
        "###List คือ การเอาตัวแปรหลายๆตัวมาเรียงกัน\r\n",
        "list สามารถสร้างได้ 2 แบบ ดังนี้"
      ]
    },
    {
      "cell_type": "markdown",
      "metadata": {
        "id": "h97Iq3QDTYuu"
      },
      "source": [
        "####แบบที่ 1 square brackets"
      ]
    },
    {
      "cell_type": "code",
      "metadata": {
        "colab": {
          "base_uri": "https://localhost:8080/"
        },
        "id": "Wul7Jw8FRhrM",
        "outputId": "066d4656-e04c-471e-aa52-7c9eb7ae72da"
      },
      "source": [
        "list_a = []\r\n",
        "print(list_a)"
      ],
      "execution_count": 38,
      "outputs": [
        {
          "output_type": "stream",
          "text": [
            "[]\n"
          ],
          "name": "stdout"
        }
      ]
    },
    {
      "cell_type": "code",
      "metadata": {
        "id": "E3iIngddT7CQ"
      },
      "source": [
        "#list_b = [1,5,'v']\r\n",
        "#print(list_b)"
      ],
      "execution_count": 39,
      "outputs": []
    },
    {
      "cell_type": "code",
      "metadata": {
        "colab": {
          "base_uri": "https://localhost:8080/"
        },
        "id": "9z4XGR3jUypB",
        "outputId": "5a1c4927-10d3-4241-cdd4-788cba1197d3"
      },
      "source": [
        "list_b = [111,'c','งง',aaa]\r\n",
        "print(list_b)"
      ],
      "execution_count": 40,
      "outputs": [
        {
          "output_type": "stream",
          "text": [
            "[111, 'c', 'งง', 1092]\n"
          ],
          "name": "stdout"
        }
      ]
    },
    {
      "cell_type": "markdown",
      "metadata": {
        "id": "O3-xx95MUPNo"
      },
      "source": [
        "###ลำดับที่อยู่ใน list มีความสำคัญ (ลำดับใน list เริ่มจาก 0,1,2,...)"
      ]
    },
    {
      "cell_type": "code",
      "metadata": {
        "colab": {
          "base_uri": "https://localhost:8080/",
          "height": 35
        },
        "id": "gPcDChv0UHE5",
        "outputId": "d3a54d47-0465-43fe-d2c5-dc36f364226b"
      },
      "source": [
        "list_b[2]"
      ],
      "execution_count": 41,
      "outputs": [
        {
          "output_type": "execute_result",
          "data": {
            "application/vnd.google.colaboratory.intrinsic+json": {
              "type": "string"
            },
            "text/plain": [
              "'งง'"
            ]
          },
          "metadata": {
            "tags": []
          },
          "execution_count": 41
        }
      ]
    },
    {
      "cell_type": "code",
      "metadata": {
        "colab": {
          "base_uri": "https://localhost:8080/"
        },
        "id": "dIp7TIpdUtJh",
        "outputId": "d21a6693-e1d9-4017-e2f9-7dc05bcd851b"
      },
      "source": [
        "list_b[0]"
      ],
      "execution_count": 42,
      "outputs": [
        {
          "output_type": "execute_result",
          "data": {
            "text/plain": [
              "111"
            ]
          },
          "metadata": {
            "tags": []
          },
          "execution_count": 42
        }
      ]
    },
    {
      "cell_type": "markdown",
      "metadata": {
        "id": "d0_d2hBNWSPq"
      },
      "source": [
        "####แบบที่ 2 "
      ]
    },
    {
      "cell_type": "code",
      "metadata": {
        "colab": {
          "base_uri": "https://localhost:8080/"
        },
        "id": "MGku19w1V-_i",
        "outputId": "1afef3cc-4795-4961-a8bb-40ba8eed0bb1"
      },
      "source": [
        "list_c = list()\r\n",
        "print(list_c)"
      ],
      "execution_count": 43,
      "outputs": [
        {
          "output_type": "stream",
          "text": [
            "[]\n"
          ],
          "name": "stdout"
        }
      ]
    },
    {
      "cell_type": "markdown",
      "metadata": {
        "id": "vqHZHowkX3sp"
      },
      "source": [
        "####append() เพิ่มสมาชิกใน list"
      ]
    },
    {
      "cell_type": "code",
      "metadata": {
        "colab": {
          "base_uri": "https://localhost:8080/"
        },
        "id": "_WUdIH7iXn1g",
        "outputId": "a6f2e666-8147-4c09-99dc-03b0226cfa4c"
      },
      "source": [
        "list_b.append('u')\r\n",
        "print(list_b)"
      ],
      "execution_count": 44,
      "outputs": [
        {
          "output_type": "stream",
          "text": [
            "[111, 'c', 'งง', 1092, 'u']\n"
          ],
          "name": "stdout"
        }
      ]
    },
    {
      "cell_type": "markdown",
      "metadata": {
        "id": "6EStqEGDZx1_"
      },
      "source": [
        " ตัวที่อยู่ในวงเล็บหลังจากตัวแปร list  เรียกว่า index ใช้สำหรับชี้ข้อมูลใน list \r\n",
        " \r\n",
        " (ชี้จากข้างหน้า,ชี้จากข้างหลัง)\r\n",
        "\r\n",
        " 0 คือสมาชิกตัวแรก,-1 คือสมาชิกตัวสุดท้าย"
      ]
    },
    {
      "cell_type": "code",
      "metadata": {
        "colab": {
          "base_uri": "https://localhost:8080/",
          "height": 35
        },
        "id": "9nkk26VRYhY5",
        "outputId": "deeaf8ae-e706-43a7-c5c6-27eef51c238f"
      },
      "source": [
        "list_b[-1] "
      ],
      "execution_count": 45,
      "outputs": [
        {
          "output_type": "execute_result",
          "data": {
            "application/vnd.google.colaboratory.intrinsic+json": {
              "type": "string"
            },
            "text/plain": [
              "'u'"
            ]
          },
          "metadata": {
            "tags": []
          },
          "execution_count": 45
        }
      ]
    },
    {
      "cell_type": "markdown",
      "metadata": {
        "id": "4oCoaXvOamRg"
      },
      "source": [
        "###String > list of characters"
      ]
    },
    {
      "cell_type": "code",
      "metadata": {
        "colab": {
          "base_uri": "https://localhost:8080/"
        },
        "id": "EVqOA_EzahUR",
        "outputId": "7d56e95e-bd8f-46d2-d40a-f108444f1d77"
      },
      "source": [
        "t = 'python is easy'\r\n",
        "print(t)"
      ],
      "execution_count": 46,
      "outputs": [
        {
          "output_type": "stream",
          "text": [
            "python is easy\n"
          ],
          "name": "stdout"
        }
      ]
    },
    {
      "cell_type": "code",
      "metadata": {
        "colab": {
          "base_uri": "https://localhost:8080/",
          "height": 35
        },
        "id": "6M-jMl93brJp",
        "outputId": "31868bec-d748-4433-d37b-cf3e2598bf3d"
      },
      "source": [
        "t[1]"
      ],
      "execution_count": 47,
      "outputs": [
        {
          "output_type": "execute_result",
          "data": {
            "application/vnd.google.colaboratory.intrinsic+json": {
              "type": "string"
            },
            "text/plain": [
              "'y'"
            ]
          },
          "metadata": {
            "tags": []
          },
          "execution_count": 47
        }
      ]
    },
    {
      "cell_type": "code",
      "metadata": {
        "colab": {
          "base_uri": "https://localhost:8080/",
          "height": 35
        },
        "id": "hY6TJOc-cFJ_",
        "outputId": "c85069c2-d29e-4df0-f6dd-577145a27d8f"
      },
      "source": [
        "t[-1]"
      ],
      "execution_count": 48,
      "outputs": [
        {
          "output_type": "execute_result",
          "data": {
            "application/vnd.google.colaboratory.intrinsic+json": {
              "type": "string"
            },
            "text/plain": [
              "'y'"
            ]
          },
          "metadata": {
            "tags": []
          },
          "execution_count": 48
        }
      ]
    },
    {
      "cell_type": "code",
      "metadata": {
        "colab": {
          "base_uri": "https://localhost:8080/",
          "height": 35
        },
        "id": "USmHPDqCcwnY",
        "outputId": "1cbadb19-1de9-4b5a-c507-b502a65e78b4"
      },
      "source": [
        "t[-4]"
      ],
      "execution_count": 49,
      "outputs": [
        {
          "output_type": "execute_result",
          "data": {
            "application/vnd.google.colaboratory.intrinsic+json": {
              "type": "string"
            },
            "text/plain": [
              "'e'"
            ]
          },
          "metadata": {
            "tags": []
          },
          "execution_count": 49
        }
      ]
    },
    {
      "cell_type": "code",
      "metadata": {
        "colab": {
          "base_uri": "https://localhost:8080/",
          "height": 35
        },
        "id": "tOpm7tgZdHXF",
        "outputId": "b9de4a06-af01-4626-cb59-82da541879c9"
      },
      "source": [
        "t[6] #ตัวที่6ในตัวแปรtคือช่องว่าง"
      ],
      "execution_count": 50,
      "outputs": [
        {
          "output_type": "execute_result",
          "data": {
            "application/vnd.google.colaboratory.intrinsic+json": {
              "type": "string"
            },
            "text/plain": [
              "' '"
            ]
          },
          "metadata": {
            "tags": []
          },
          "execution_count": 50
        }
      ]
    },
    {
      "cell_type": "code",
      "metadata": {
        "id": "eFnHJ94GdFLB"
      },
      "source": [
        ""
      ],
      "execution_count": 52,
      "outputs": []
    },
    {
      "cell_type": "markdown",
      "metadata": {
        "id": "rAdr7jRtbScZ"
      },
      "source": [
        "#จบ 5 มค 2021"
      ]
    },
    {
      "cell_type": "markdown",
      "metadata": {
        "id": "oX0yyTklbGap"
      },
      "source": [
        "#คาบ 3 11 มค 2021"
      ]
    },
    {
      "cell_type": "code",
      "metadata": {
        "colab": {
          "base_uri": "https://localhost:8080/"
        },
        "id": "cnNlU0kKc8k4",
        "outputId": "30c0b2d8-2cb7-42ee-d727-b319e55b5aa0"
      },
      "source": [
        "len(t)"
      ],
      "execution_count": 51,
      "outputs": [
        {
          "output_type": "execute_result",
          "data": {
            "text/plain": [
              "14"
            ]
          },
          "metadata": {
            "tags": []
          },
          "execution_count": 51
        }
      ]
    },
    {
      "cell_type": "code",
      "metadata": {
        "colab": {
          "base_uri": "https://localhost:8080/"
        },
        "id": "F65HngjqbT4B",
        "outputId": "35d2d1df-1611-48fb-ebbb-7d18185e1cfa"
      },
      "source": [
        "len(list_b) # len คือ คำสั่งตรวจสอบความยาวของ list (จำนวนสมาชิก)"
      ],
      "execution_count": 52,
      "outputs": [
        {
          "output_type": "execute_result",
          "data": {
            "text/plain": [
              "5"
            ]
          },
          "metadata": {
            "tags": []
          },
          "execution_count": 52
        }
      ]
    },
    {
      "cell_type": "markdown",
      "metadata": {
        "id": "lpOXwi_2WqOb"
      },
      "source": [
        "#List slicing สามารถทำได้โดยใช้ colon :"
      ]
    },
    {
      "cell_type": "code",
      "metadata": {
        "colab": {
          "base_uri": "https://localhost:8080/"
        },
        "id": "ATba5hEtW8nV",
        "outputId": "03013274-20bd-4c32-dfc9-b3af94bec621"
      },
      "source": [
        "print(t)\r\n",
        "print(t[7:9])\r\n",
        "print(len(t[7:9]))"
      ],
      "execution_count": 53,
      "outputs": [
        {
          "output_type": "stream",
          "text": [
            "python is easy\n",
            "is\n",
            "2\n"
          ],
          "name": "stdout"
        }
      ]
    },
    {
      "cell_type": "code",
      "metadata": {
        "colab": {
          "base_uri": "https://localhost:8080/",
          "height": 35
        },
        "id": "keAQ_Iu9XUKR",
        "outputId": "7451973a-0705-4ad5-ec9e-e8bf2f9b9d85"
      },
      "source": [
        "t[0:14:2] #เริ่มตัวที่ 0 แล้วหยิบทุกตัว 2 ตัว ไปจนครบ 14"
      ],
      "execution_count": 54,
      "outputs": [
        {
          "output_type": "execute_result",
          "data": {
            "application/vnd.google.colaboratory.intrinsic+json": {
              "type": "string"
            },
            "text/plain": [
              "'pto ses'"
            ]
          },
          "metadata": {
            "tags": []
          },
          "execution_count": 54
        }
      ]
    },
    {
      "cell_type": "code",
      "metadata": {
        "id": "wTtqNo6EYVle"
      },
      "source": [
        ""
      ],
      "execution_count": null,
      "outputs": []
    },
    {
      "cell_type": "markdown",
      "metadata": {
        "id": "3vL42u80YcFc"
      },
      "source": [
        "#quiz"
      ]
    },
    {
      "cell_type": "markdown",
      "metadata": {
        "id": "jKC6uUYTYm8s"
      },
      "source": [
        "ให้ใช้ list slicing เลือกมาเฉพาะเลขคู่"
      ]
    },
    {
      "cell_type": "code",
      "metadata": {
        "colab": {
          "base_uri": "https://localhost:8080/"
        },
        "id": "A3n6q39sYkBC",
        "outputId": "3c59200b-9bfb-4b85-8645-5f50cc3f2887"
      },
      "source": [
        "Z = [1,2,3,4,5,6,7,8,9,10]\r\n",
        "print(Z[1:10:2])"
      ],
      "execution_count": 55,
      "outputs": [
        {
          "output_type": "stream",
          "text": [
            "[2, 4, 6, 8, 10]\n"
          ],
          "name": "stdout"
        }
      ]
    },
    {
      "cell_type": "markdown",
      "metadata": {
        "id": "AliJ-CFHZBFi"
      },
      "source": [
        "ถ้าเว้นว่างข้างหน้า : หมายความว่า เริ่มตั้งแต่ตัวแรก (0)\r\n",
        "\r\n",
        "ถ้าเว้นว่างข้างหลัง : หมายความว่า ไปจนถึงตัวสุดท้าย l(en)(list)"
      ]
    },
    {
      "cell_type": "code",
      "metadata": {
        "colab": {
          "base_uri": "https://localhost:8080/"
        },
        "id": "jNDyree4ZDBZ",
        "outputId": "7e980386-0504-40d3-a7fe-00439d76b86b"
      },
      "source": [
        "print(t)\r\n",
        "print(t[:6])\r\n",
        "print(t[10:])\r\n",
        "print(t[-4:])\r\n",
        "print(t[:])"
      ],
      "execution_count": 56,
      "outputs": [
        {
          "output_type": "stream",
          "text": [
            "python is easy\n",
            "python\n",
            "easy\n",
            "easy\n",
            "python is easy\n"
          ],
          "name": "stdout"
        }
      ]
    },
    {
      "cell_type": "code",
      "metadata": {
        "colab": {
          "base_uri": "https://localhost:8080/"
        },
        "id": "DIE34t4xZNWT",
        "outputId": "f7f2428d-de19-427c-baed-f01c2c0db370"
      },
      "source": [
        "print(Z[::2])"
      ],
      "execution_count": 57,
      "outputs": [
        {
          "output_type": "stream",
          "text": [
            "[1, 3, 5, 7, 9]\n"
          ],
          "name": "stdout"
        }
      ]
    },
    {
      "cell_type": "code",
      "metadata": {
        "id": "j9KugmLfZP0p"
      },
      "source": [
        ""
      ],
      "execution_count": 58,
      "outputs": []
    },
    {
      "cell_type": "markdown",
      "metadata": {
        "id": "JsMR6GyyZUWW"
      },
      "source": [
        "# เราสามารถเอา list มาต่อกันได้ด้วย +"
      ]
    },
    {
      "cell_type": "code",
      "metadata": {
        "colab": {
          "base_uri": "https://localhost:8080/",
          "height": 35
        },
        "id": "CqZDHXgxZTMR",
        "outputId": "7814d14d-b38a-45cc-caa2-4577090358de"
      },
      "source": [
        "t + '??'"
      ],
      "execution_count": 59,
      "outputs": [
        {
          "output_type": "execute_result",
          "data": {
            "application/vnd.google.colaboratory.intrinsic+json": {
              "type": "string"
            },
            "text/plain": [
              "'python is easy??'"
            ]
          },
          "metadata": {
            "tags": []
          },
          "execution_count": 59
        }
      ]
    },
    {
      "cell_type": "code",
      "metadata": {
        "colab": {
          "base_uri": "https://localhost:8080/",
          "height": 163
        },
        "id": "mA24xijMZZ4H",
        "outputId": "9933f790-2989-4ad9-eb46-0336829edc28"
      },
      "source": [
        "t + list_b ## ไม่สามารถเอา list ปกติมาต่อกับ string ได้"
      ],
      "execution_count": 60,
      "outputs": [
        {
          "output_type": "error",
          "ename": "TypeError",
          "evalue": "ignored",
          "traceback": [
            "\u001b[0;31m---------------------------------------------------------------------------\u001b[0m",
            "\u001b[0;31mTypeError\u001b[0m                                 Traceback (most recent call last)",
            "\u001b[0;32m<ipython-input-60-8ceeb7529eac>\u001b[0m in \u001b[0;36m<module>\u001b[0;34m()\u001b[0m\n\u001b[0;32m----> 1\u001b[0;31m \u001b[0mt\u001b[0m \u001b[0;34m+\u001b[0m \u001b[0mlist_b\u001b[0m \u001b[0;31m## ไม่สามารถเอา list ปกติมาต่อกับ string ได้\u001b[0m\u001b[0;34m\u001b[0m\u001b[0;34m\u001b[0m\u001b[0m\n\u001b[0m",
            "\u001b[0;31mTypeError\u001b[0m: must be str, not list"
          ]
        }
      ]
    },
    {
      "cell_type": "code",
      "metadata": {
        "colab": {
          "base_uri": "https://localhost:8080/"
        },
        "id": "m3M9L9jSZdHe",
        "outputId": "d8313832-3020-424d-e744-84271dd40df6"
      },
      "source": [
        "print(list_a)\r\n",
        "list_b = [111, 'c', 'งง', aaa]\r\n",
        "print(list_b)\r\n",
        "print(list_b + list_a) # + คือการเอาสมาชิกมารวมกัน"
      ],
      "execution_count": 61,
      "outputs": [
        {
          "output_type": "stream",
          "text": [
            "[]\n",
            "[111, 'c', 'งง', 1092]\n",
            "[111, 'c', 'งง', 1092]\n"
          ],
          "name": "stdout"
        }
      ]
    },
    {
      "cell_type": "code",
      "metadata": {
        "colab": {
          "base_uri": "https://localhost:8080/"
        },
        "id": "8nrFkWt1Zgzh",
        "outputId": "20b75d50-d64c-4f69-fef5-45f07d5d3e87"
      },
      "source": [
        "list_b . append(list_a)\r\n",
        "print(list_b)"
      ],
      "execution_count": 62,
      "outputs": [
        {
          "output_type": "stream",
          "text": [
            "[111, 'c', 'งง', 1092, []]\n"
          ],
          "name": "stdout"
        }
      ]
    },
    {
      "cell_type": "code",
      "metadata": {
        "id": "IhRq4n0KZkAe"
      },
      "source": [
        ""
      ],
      "execution_count": null,
      "outputs": []
    },
    {
      "cell_type": "markdown",
      "metadata": {
        "id": "1ZR5kzjtZm9u"
      },
      "source": [
        "# การแบ่ง string ตามสัญลักษณ์ที่กำหนด -> splist string"
      ]
    },
    {
      "cell_type": "code",
      "metadata": {
        "colab": {
          "base_uri": "https://localhost:8080/",
          "height": 35
        },
        "id": "PaftlZPtZnyx",
        "outputId": "122e5aa3-b130-414d-f85b-8d76e49092ff"
      },
      "source": [
        "t"
      ],
      "execution_count": 63,
      "outputs": [
        {
          "output_type": "execute_result",
          "data": {
            "application/vnd.google.colaboratory.intrinsic+json": {
              "type": "string"
            },
            "text/plain": [
              "'python is easy'"
            ]
          },
          "metadata": {
            "tags": []
          },
          "execution_count": 63
        }
      ]
    },
    {
      "cell_type": "code",
      "metadata": {
        "colab": {
          "base_uri": "https://localhost:8080/"
        },
        "id": "rdL5cxx9Zr8c",
        "outputId": "faf22d98-2a35-4a8f-96fb-64cdf12b1c3b"
      },
      "source": [
        "t.split(' ')"
      ],
      "execution_count": 64,
      "outputs": [
        {
          "output_type": "execute_result",
          "data": {
            "text/plain": [
              "['python', 'is', 'easy']"
            ]
          },
          "metadata": {
            "tags": []
          },
          "execution_count": 64
        }
      ]
    },
    {
      "cell_type": "code",
      "metadata": {
        "id": "JLw8qTP8ZtLe"
      },
      "source": [
        "time = '12:30:15'"
      ],
      "execution_count": 65,
      "outputs": []
    },
    {
      "cell_type": "code",
      "metadata": {
        "colab": {
          "base_uri": "https://localhost:8080/"
        },
        "id": "zMqy2gFmZvdE",
        "outputId": "c8c710e4-3be9-41d3-ffd0-44d6b9eb05f1"
      },
      "source": [
        "t_sp = time.split(':')\r\n",
        "print(t_sp)"
      ],
      "execution_count": 66,
      "outputs": [
        {
          "output_type": "stream",
          "text": [
            "['12', '30', '15']\n"
          ],
          "name": "stdout"
        }
      ]
    },
    {
      "cell_type": "code",
      "metadata": {
        "colab": {
          "base_uri": "https://localhost:8080/"
        },
        "id": "leVBKnsZZx2-",
        "outputId": "74e2678d-b102-472a-ed8f-bf50f8b4f6f8"
      },
      "source": [
        "t_sp = t.split(' ')\r\n",
        "print(t_sp)\r\n"
      ],
      "execution_count": 67,
      "outputs": [
        {
          "output_type": "stream",
          "text": [
            "['python', 'is', 'easy']\n"
          ],
          "name": "stdout"
        }
      ]
    },
    {
      "cell_type": "code",
      "metadata": {
        "colab": {
          "base_uri": "https://localhost:8080/"
        },
        "id": "QNokomLcZ4lO",
        "outputId": "4d89bad5-93c0-456e-b165-55319e7a60a0"
      },
      "source": [
        "## วิธีรวมกลับ\r\n",
        "print(':'.join(t_sp))"
      ],
      "execution_count": 68,
      "outputs": [
        {
          "output_type": "stream",
          "text": [
            "python:is:easy\n"
          ],
          "name": "stdout"
        }
      ]
    },
    {
      "cell_type": "markdown",
      "metadata": {
        "id": "DiSBTUhdaBra"
      },
      "source": [
        "## HW คำนวณเวลาเป็นวินาทีของเลาต่อไปนี้โดยใช้คำสั่ง split() ช่วย(printออกมาให้สวยงาม)\r\n",
        "\r\n",
        "12:30:15\r\n",
        "\r\n",
        "13:41:07\r\n",
        "\r\n",
        "12:53:15\r\n",
        "\r\n",
        "00:59:25\r\n",
        "\r\n",
        "11:11:11\r\n",
        "\r\n",
        "16:06:09\r\n",
        "\r\n",
        "21:12:30\r\n",
        "\r\n",
        "10:06:15\r\n",
        "\r\n",
        "ตัวอย่าง > 00:01:10 = 70 วินาที\r\n",
        "\r\n",
        "ตัวอย่าง > 01:00:01 = 3601 วินาที"
      ]
    },
    {
      "cell_type": "code",
      "metadata": {
        "colab": {
          "base_uri": "https://localhost:8080/"
        },
        "id": "Q9jkZZHaaCxY",
        "outputId": "96217478-e33c-4dac-d018-1073745e6244"
      },
      "source": [
        "q1 = '12:30:15'\r\n",
        "q1.split(':')\r\n",
        "list_q1 = [12,30,15]\r\n",
        "h = list_q1[0]*3600\r\n",
        "m = list_q1[1]*60\r\n",
        "s = list_q1[2]\r\n",
        "Ans_q1 = h+m+s\r\n",
        "print(Ans_q1)"
      ],
      "execution_count": 69,
      "outputs": [
        {
          "output_type": "stream",
          "text": [
            "45015\n"
          ],
          "name": "stdout"
        }
      ]
    },
    {
      "cell_type": "code",
      "metadata": {
        "colab": {
          "base_uri": "https://localhost:8080/"
        },
        "id": "oC9FJ97MaHD6",
        "outputId": "281f8a02-1df9-492f-c54d-9c2feab65d2a"
      },
      "source": [
        "q2 = '13:41:07'\r\n",
        "q2.split(':')\r\n",
        "list_q2 = [13,41,7]\r\n",
        "h = list_q2[0]*3600\r\n",
        "m = list_q2[1]*60\r\n",
        "s = list_q2[2]\r\n",
        "Ans_q2 = h+m+s\r\n",
        "print(Ans_q2)"
      ],
      "execution_count": 70,
      "outputs": [
        {
          "output_type": "stream",
          "text": [
            "49267\n"
          ],
          "name": "stdout"
        }
      ]
    },
    {
      "cell_type": "code",
      "metadata": {
        "colab": {
          "base_uri": "https://localhost:8080/"
        },
        "id": "Lqhls2czaJYO",
        "outputId": "c63c2ed3-93dd-44ec-b0ef-371d76facff8"
      },
      "source": [
        "q3 = '12:53:15'\r\n",
        "q3.split(':')\r\n",
        "list_q3 = [12,53,15]\r\n",
        "h = list_q3[0]*3600\r\n",
        "m = list_q3[1]*60\r\n",
        "s = list_q3[2]\r\n",
        "Ans_q3 = h+m+s\r\n",
        "print(Ans_q3)"
      ],
      "execution_count": 71,
      "outputs": [
        {
          "output_type": "stream",
          "text": [
            "46395\n"
          ],
          "name": "stdout"
        }
      ]
    },
    {
      "cell_type": "code",
      "metadata": {
        "colab": {
          "base_uri": "https://localhost:8080/"
        },
        "id": "CH3a8A2waOCs",
        "outputId": "7055f155-799c-4ac1-8f99-16d07b9296ec"
      },
      "source": [
        "q4 = '00:59:25'\r\n",
        "q4.split(':')\r\n",
        "list_q4 = [00,59,25]\r\n",
        "h = list_q4[0]*3600\r\n",
        "m = list_q4[1]*60\r\n",
        "s = list_q4[2]\r\n",
        "Ans_q4 = h+m+s\r\n",
        "print(Ans_q4)"
      ],
      "execution_count": 72,
      "outputs": [
        {
          "output_type": "stream",
          "text": [
            "3565\n"
          ],
          "name": "stdout"
        }
      ]
    },
    {
      "cell_type": "code",
      "metadata": {
        "colab": {
          "base_uri": "https://localhost:8080/"
        },
        "id": "RCAwHBQxaPIX",
        "outputId": "89bc1f71-873e-4fd0-ad46-1be1fa39fe2c"
      },
      "source": [
        "q5 = '11:11:11'\r\n",
        "q5.split(':')\r\n",
        "list_q5 = [11,11,11]\r\n",
        "h = list_q5[0]*3600\r\n",
        "m = list_q5[1]*60\r\n",
        "s = list_q5[2]\r\n",
        "Ans_q5 = h+m+s\r\n",
        "print(Ans_q5)"
      ],
      "execution_count": 73,
      "outputs": [
        {
          "output_type": "stream",
          "text": [
            "40271\n"
          ],
          "name": "stdout"
        }
      ]
    },
    {
      "cell_type": "code",
      "metadata": {
        "colab": {
          "base_uri": "https://localhost:8080/"
        },
        "id": "-hCiKxZNaRmB",
        "outputId": "f0b9af14-28dd-4946-a0a8-a26ab0d5b1f6"
      },
      "source": [
        "q6 = '16:06:09'\r\n",
        "q6.split(':')\r\n",
        "list_q6 = [16,6,9]\r\n",
        "h = list_q6[0]*3600\r\n",
        "m = list_q6[1]*60\r\n",
        "s = list_q6[2]\r\n",
        "Ans_q6 = h+m+s\r\n",
        "print(Ans_q6)"
      ],
      "execution_count": 74,
      "outputs": [
        {
          "output_type": "stream",
          "text": [
            "57969\n"
          ],
          "name": "stdout"
        }
      ]
    },
    {
      "cell_type": "code",
      "metadata": {
        "colab": {
          "base_uri": "https://localhost:8080/"
        },
        "id": "RXk7LglqaUqS",
        "outputId": "b9f8a4ac-0db6-48c6-93b3-da32d3871daf"
      },
      "source": [
        "q7 = '21:12:30'\r\n",
        "q7.split(':')\r\n",
        "list_q7 = [21,12,30]\r\n",
        "h = list_q7[0]*3600\r\n",
        "m = list_q7[1]*60\r\n",
        "s = list_q7[2]\r\n",
        "Ans_q7 = h+m+s\r\n",
        "print(Ans_q7)"
      ],
      "execution_count": 75,
      "outputs": [
        {
          "output_type": "stream",
          "text": [
            "76350\n"
          ],
          "name": "stdout"
        }
      ]
    },
    {
      "cell_type": "code",
      "metadata": {
        "colab": {
          "base_uri": "https://localhost:8080/"
        },
        "id": "vqwNDEXgaXZC",
        "outputId": "c0417c72-4448-4714-eddc-3baefc9a389d"
      },
      "source": [
        "q8 = '10:06:15'\r\n",
        "q8.split(':')\r\n",
        "list_q8 = [10,6,15]\r\n",
        "h = list_q8[0]*3600\r\n",
        "m = list_q8[1]*60\r\n",
        "s = list_q8[2]\r\n",
        "Ans_q8 = h+m+s\r\n",
        "print(Ans_q8)"
      ],
      "execution_count": 76,
      "outputs": [
        {
          "output_type": "stream",
          "text": [
            "36375\n"
          ],
          "name": "stdout"
        }
      ]
    },
    {
      "cell_type": "code",
      "metadata": {
        "id": "HE7UjzinaduV"
      },
      "source": [
        ""
      ],
      "execution_count": null,
      "outputs": []
    }
  ]
}