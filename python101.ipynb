{
  "nbformat": 4,
  "nbformat_minor": 0,
  "metadata": {
    "colab": {
      "name": "python101.ipynb",
      "provenance": [],
      "authorship_tag": "ABX9TyMn5J5fYwpGheGmVzBMU69s",
      "include_colab_link": true
    },
    "kernelspec": {
      "name": "python3",
      "display_name": "Python 3"
    }
  },
  "cells": [
    {
      "cell_type": "markdown",
      "metadata": {
        "id": "view-in-github",
        "colab_type": "text"
      },
      "source": [
        "<a href=\"https://colab.research.google.com/github/Athitiya00/multivariate/blob/main/python101.ipynb\" target=\"_parent\"><img src=\"https://colab.research.google.com/assets/colab-badge.svg\" alt=\"Open In Colab\"/></a>"
      ]
    },
    {
      "cell_type": "markdown",
      "metadata": {
        "id": "qjaq4VL0LfQS"
      },
      "source": [
        "ตัวแปร variable"
      ]
    },
    {
      "cell_type": "code",
      "metadata": {
        "id": "0WGCMFUWWZxV"
      },
      "source": [
        ""
      ],
      "execution_count": null,
      "outputs": []
    },
    {
      "cell_type": "markdown",
      "metadata": {
        "id": "gu6dyAHr-hcZ"
      },
      "source": [
        "หลักการตั้งขื่อตัวแปรเบื้องต้น\r\n",
        "\r\n",
        "1. ตั้งชื่อให้สื่อ\r\n",
        "2. ตั้งเป็นภาษาอังกฤษ\r\n",
        "3. ใช้ตัวเลขได้แต่ห้ามขึ้นต้นด้วยตัวเลข\r\n",
        "4. ห้ามเว้นวรรค"
      ]
    },
    {
      "cell_type": "markdown",
      "metadata": {
        "id": "upLItsewAQOM"
      },
      "source": [
        "มี output 2 mode : แสดงออกทางหน้าจอ กับ เข้าไปเก็บในตัวแปร"
      ]
    },
    {
      "cell_type": "code",
      "metadata": {
        "id": "WMLEXpYR_Mkl",
        "colab": {
          "base_uri": "https://localhost:8080/"
        },
        "outputId": "4e8d17f3-8ca0-4a78-f1c1-5ea7d323bc81"
      },
      "source": [
        "3.14159"
      ],
      "execution_count": null,
      "outputs": [
        {
          "output_type": "execute_result",
          "data": {
            "text/plain": [
              "3.14159"
            ]
          },
          "metadata": {
            "tags": []
          },
          "execution_count": 15
        }
      ]
    },
    {
      "cell_type": "code",
      "metadata": {
        "id": "kX7NJjw6_gga"
      },
      "source": [
        "Pi = 3.14159"
      ],
      "execution_count": null,
      "outputs": []
    },
    {
      "cell_type": "code",
      "metadata": {
        "id": "C14EnfqPKJTs",
        "colab": {
          "base_uri": "https://localhost:8080/"
        },
        "outputId": "05c7c78a-5ee1-49b1-8be6-54b7d93371cd"
      },
      "source": [
        "Pi"
      ],
      "execution_count": null,
      "outputs": [
        {
          "output_type": "execute_result",
          "data": {
            "text/plain": [
              "3.14159"
            ]
          },
          "metadata": {
            "tags": []
          },
          "execution_count": 18
        }
      ]
    },
    {
      "cell_type": "code",
      "metadata": {
        "colab": {
          "base_uri": "https://localhost:8080/"
        },
        "id": "regWk8xmAFBh",
        "outputId": "8ae30663-b835-4f38-e288-e6aedc840dcf"
      },
      "source": [
        "a = 1234567\r\n",
        "print(a)"
      ],
      "execution_count": null,
      "outputs": [
        {
          "output_type": "stream",
          "text": [
            "1234567\n"
          ],
          "name": "stdout"
        }
      ]
    },
    {
      "cell_type": "markdown",
      "metadata": {
        "id": "p2OyRqgjAthF"
      },
      "source": [
        "##ชนิดของตัวแปร 3 ชนิด"
      ]
    },
    {
      "cell_type": "markdown",
      "metadata": {
        "id": "VUxtH7kVA5qF"
      },
      "source": [
        "###จำนวนเต็ม (integer,int)"
      ]
    },
    {
      "cell_type": "code",
      "metadata": {
        "colab": {
          "base_uri": "https://localhost:8080/"
        },
        "id": "-HxUP5tqA2hY",
        "outputId": "e54aaf11-9328-44cc-cd42-d35dfb92b360"
      },
      "source": [
        "aaa = 1092\r\n",
        "print(aaa)"
      ],
      "execution_count": null,
      "outputs": [
        {
          "output_type": "stream",
          "text": [
            "1092\n"
          ],
          "name": "stdout"
        }
      ]
    },
    {
      "cell_type": "markdown",
      "metadata": {
        "id": "FYn9eqXLCkKZ"
      },
      "source": [
        "###จำนวนจริง(float)"
      ]
    },
    {
      "cell_type": "code",
      "metadata": {
        "colab": {
          "base_uri": "https://localhost:8080/"
        },
        "id": "pTjPSWVqCtjY",
        "outputId": "4d2ea30b-d34b-422a-f5d9-c6c7249f3b20"
      },
      "source": [
        "bbb = 11.\r\n",
        "print(bbb)"
      ],
      "execution_count": null,
      "outputs": [
        {
          "output_type": "stream",
          "text": [
            "11.0\n"
          ],
          "name": "stdout"
        }
      ]
    },
    {
      "cell_type": "markdown",
      "metadata": {
        "id": "rLDzioDfC62_"
      },
      "source": [
        "###ตัวอักษร-ข้อความ(Character และ Text, String)"
      ]
    },
    {
      "cell_type": "code",
      "metadata": {
        "colab": {
          "base_uri": "https://localhost:8080/"
        },
        "id": "5LizvjWKC4zD",
        "outputId": "7d3e2ad1-6b2e-4e29-8733-7cabbc6496f7"
      },
      "source": [
        "ccc = '123456 ' # เราใช้ single quote หรือ double quote ล้อมรอบตัวหนังสือเพื่อระบุว่าเป็น Character-string\r\n",
        "print(ccc)"
      ],
      "execution_count": null,
      "outputs": [
        {
          "output_type": "stream",
          "text": [
            "123456 \n"
          ],
          "name": "stdout"
        }
      ]
    },
    {
      "cell_type": "code",
      "metadata": {
        "colab": {
          "base_uri": "https://localhost:8080/"
        },
        "id": "ZDgdWP_2EeCT",
        "outputId": "0882625b-a649-4ab1-a889-2db9ffb8959d"
      },
      "source": [
        "aaa + bbb # float(bbb) + int(aaa) = float"
      ],
      "execution_count": null,
      "outputs": [
        {
          "output_type": "execute_result",
          "data": {
            "text/plain": [
              "1103.0"
            ]
          },
          "metadata": {
            "tags": []
          },
          "execution_count": 12
        }
      ]
    },
    {
      "cell_type": "code",
      "metadata": {
        "colab": {
          "base_uri": "https://localhost:8080/",
          "height": 163
        },
        "id": "cH-Qxmv0FCWP",
        "outputId": "013f282c-c5be-424e-8d85-3c7147604b7b"
      },
      "source": [
        "bbb + ccc # float(bbb) ไม่สามารถ+กับ string(ccc) ได้ เพราะว่าเป็นตัวแปรต่างชนิดกันจึงเกิดerror"
      ],
      "execution_count": null,
      "outputs": [
        {
          "output_type": "error",
          "ename": "TypeError",
          "evalue": "ignored",
          "traceback": [
            "\u001b[0;31m---------------------------------------------------------------------------\u001b[0m",
            "\u001b[0;31mTypeError\u001b[0m                                 Traceback (most recent call last)",
            "\u001b[0;32m<ipython-input-13-354848c2bb1f>\u001b[0m in \u001b[0;36m<module>\u001b[0;34m()\u001b[0m\n\u001b[0;32m----> 1\u001b[0;31m \u001b[0mbbb\u001b[0m \u001b[0;34m+\u001b[0m \u001b[0mccc\u001b[0m \u001b[0;31m# float(bbb) ไม่สามารถ+กับ string(ccc) ได้ เพราะว่าเป็นตัวแปรต่างชนิดกันจึงเกิดerror\u001b[0m\u001b[0;34m\u001b[0m\u001b[0;34m\u001b[0m\u001b[0m\n\u001b[0m",
            "\u001b[0;31mTypeError\u001b[0m: unsupported operand type(s) for +: 'float' and 'str'"
          ]
        }
      ]
    },
    {
      "cell_type": "code",
      "metadata": {
        "colab": {
          "base_uri": "https://localhost:8080/"
        },
        "id": "yzjzvRU6F85Y",
        "outputId": "0bc5c7d3-ed64-44f2-df53-f3e0f55942c9"
      },
      "source": [
        "ddd = 'อาธิติยา'\r\n",
        "print(ddd)"
      ],
      "execution_count": null,
      "outputs": [
        {
          "output_type": "stream",
          "text": [
            "อาธิติยา\n"
          ],
          "name": "stdout"
        }
      ]
    },
    {
      "cell_type": "markdown",
      "metadata": {
        "id": "tJqNQhhsGOTl"
      },
      "source": [
        "## การเปลี่ยนชนิดของตัวแปร Variable casting\r\n"
      ]
    },
    {
      "cell_type": "code",
      "metadata": {
        "colab": {
          "base_uri": "https://localhost:8080/"
        },
        "id": "SSooyNcaGbFA",
        "outputId": "bb334681-29b3-416e-daed-da367b6a3531"
      },
      "source": [
        "aaa + int(ccc) #ใช้ชนิดของตัวแปรที่ต้องการเปลี่ยนบังคับไว้หน้า( )ของตัวแปรที่ต้องการเปลี่ยน"
      ],
      "execution_count": 77,
      "outputs": [
        {
          "output_type": "execute_result",
          "data": {
            "text/plain": [
              "124548"
            ]
          },
          "metadata": {
            "tags": []
          },
          "execution_count": 77
        }
      ]
    },
    {
      "cell_type": "code",
      "metadata": {
        "colab": {
          "base_uri": "https://localhost:8080/"
        },
        "id": "A9QtigIHGjri",
        "outputId": "96c2b542-ea65-4b17-e93c-0c5c7dbfaea6"
      },
      "source": [
        "aaa + float(ccc)"
      ],
      "execution_count": 78,
      "outputs": [
        {
          "output_type": "execute_result",
          "data": {
            "text/plain": [
              "124548.0"
            ]
          },
          "metadata": {
            "tags": []
          },
          "execution_count": 78
        }
      ]
    },
    {
      "cell_type": "code",
      "metadata": {
        "colab": {
          "base_uri": "https://localhost:8080/",
          "height": 35
        },
        "id": "W6824kt7HXEw",
        "outputId": "b0492a63-9786-42b3-bf84-1f3089dcefe3"
      },
      "source": [
        "str(aaa)"
      ],
      "execution_count": 79,
      "outputs": [
        {
          "output_type": "execute_result",
          "data": {
            "application/vnd.google.colaboratory.intrinsic+json": {
              "type": "string"
            },
            "text/plain": [
              "'1092'"
            ]
          },
          "metadata": {
            "tags": []
          },
          "execution_count": 79
        }
      ]
    },
    {
      "cell_type": "markdown",
      "metadata": {
        "id": "Pgl5nh1cHglw"
      },
      "source": [
        "###การดำเนินการ Operation (Operators +,-,*,/,%)"
      ]
    },
    {
      "cell_type": "code",
      "metadata": {
        "colab": {
          "base_uri": "https://localhost:8080/",
          "height": 163
        },
        "id": "KDnb-KhYH_Y6",
        "outputId": "cd3f6a5d-8336-4cf3-efa7-db85d1abcadf"
      },
      "source": [
        "a + b #ชื่อ'b'ไม่ได้มีกำหนดไว้จึงทำให้เกิด Error"
      ],
      "execution_count": 80,
      "outputs": [
        {
          "output_type": "error",
          "ename": "NameError",
          "evalue": "ignored",
          "traceback": [
            "\u001b[0;31m---------------------------------------------------------------------------\u001b[0m",
            "\u001b[0;31mNameError\u001b[0m                                 Traceback (most recent call last)",
            "\u001b[0;32m<ipython-input-80-ace299ef6489>\u001b[0m in \u001b[0;36m<module>\u001b[0;34m()\u001b[0m\n\u001b[0;32m----> 1\u001b[0;31m \u001b[0ma\u001b[0m \u001b[0;34m+\u001b[0m \u001b[0mb\u001b[0m \u001b[0;31m#ชื่อ'b'ไม่ได้มีกำหนดไว้จึงทำให้เกิด Error\u001b[0m\u001b[0;34m\u001b[0m\u001b[0;34m\u001b[0m\u001b[0m\n\u001b[0m",
            "\u001b[0;31mNameError\u001b[0m: name 'b' is not defined"
          ]
        }
      ]
    },
    {
      "cell_type": "code",
      "metadata": {
        "colab": {
          "base_uri": "https://localhost:8080/"
        },
        "id": "Rg4axeARIocb",
        "outputId": "26f163d2-5095-40e0-9a44-f49bb87b42b7"
      },
      "source": [
        "aaa + bbb"
      ],
      "execution_count": 81,
      "outputs": [
        {
          "output_type": "execute_result",
          "data": {
            "text/plain": [
              "1103.0"
            ]
          },
          "metadata": {
            "tags": []
          },
          "execution_count": 81
        }
      ]
    },
    {
      "cell_type": "code",
      "metadata": {
        "colab": {
          "base_uri": "https://localhost:8080/"
        },
        "id": "ilaCurxXIzn6",
        "outputId": "b15e14c1-3e1f-436e-9882-442b2527ce9b"
      },
      "source": [
        "aaa - bbb"
      ],
      "execution_count": 82,
      "outputs": [
        {
          "output_type": "execute_result",
          "data": {
            "text/plain": [
              "1081.0"
            ]
          },
          "metadata": {
            "tags": []
          },
          "execution_count": 82
        }
      ]
    },
    {
      "cell_type": "code",
      "metadata": {
        "colab": {
          "base_uri": "https://localhost:8080/"
        },
        "id": "49WJe-EKI1g6",
        "outputId": "e1425dda-defe-411f-fc3b-a9d07fa246af"
      },
      "source": [
        "ab = aaa*bbb\r\n",
        "print(ab)"
      ],
      "execution_count": 83,
      "outputs": [
        {
          "output_type": "stream",
          "text": [
            "12012.0\n"
          ],
          "name": "stdout"
        }
      ]
    },
    {
      "cell_type": "code",
      "metadata": {
        "colab": {
          "base_uri": "https://localhost:8080/"
        },
        "id": "Ug0ZvCTwJFH6",
        "outputId": "68e696f9-3b63-4b87-a793-12533e7faa3d"
      },
      "source": [
        "ab + int(ccc)"
      ],
      "execution_count": 84,
      "outputs": [
        {
          "output_type": "execute_result",
          "data": {
            "text/plain": [
              "135468.0"
            ]
          },
          "metadata": {
            "tags": []
          },
          "execution_count": 84
        }
      ]
    },
    {
      "cell_type": "markdown",
      "metadata": {
        "id": "kB_zC_NxJU5A"
      },
      "source": [
        "### % คือเครื่องหมาย modulo "
      ]
    },
    {
      "cell_type": "code",
      "metadata": {
        "colab": {
          "base_uri": "https://localhost:8080/"
        },
        "id": "VZpk3xaUJO7G",
        "outputId": "f104e025-dde2-499b-f8fe-8c79accde3bd"
      },
      "source": [
        "5%3 # % คือเครื่องหมายหารเอาเศษ"
      ],
      "execution_count": 85,
      "outputs": [
        {
          "output_type": "execute_result",
          "data": {
            "text/plain": [
              "2"
            ]
          },
          "metadata": {
            "tags": []
          },
          "execution_count": 85
        }
      ]
    },
    {
      "cell_type": "code",
      "metadata": {
        "colab": {
          "base_uri": "https://localhost:8080/"
        },
        "id": "1GGjj2Z_KysC",
        "outputId": "87f4a943-632f-48af-cb07-08a4877920ea"
      },
      "source": [
        "7%3"
      ],
      "execution_count": 86,
      "outputs": [
        {
          "output_type": "execute_result",
          "data": {
            "text/plain": [
              "1"
            ]
          },
          "metadata": {
            "tags": []
          },
          "execution_count": 86
        }
      ]
    },
    {
      "cell_type": "markdown",
      "metadata": {
        "id": "60Bm7zm0MAU4"
      },
      "source": [
        "###คำสั่ง Print แบบพิเศษ (การ format string)"
      ]
    },
    {
      "cell_type": "code",
      "metadata": {
        "colab": {
          "base_uri": "https://localhost:8080/"
        },
        "id": "ss96pNafK7yy",
        "outputId": "e8bce778-2459-471b-e21a-fd58c74cc327"
      },
      "source": [
        "print('ตัวแปร') #สิ่งที่อยู่ในวงเล็บ คือ ตัวแปร และ string"
      ],
      "execution_count": 87,
      "outputs": [
        {
          "output_type": "stream",
          "text": [
            "ตัวแปร\n"
          ],
          "name": "stdout"
        }
      ]
    },
    {
      "cell_type": "code",
      "metadata": {
        "colab": {
          "base_uri": "https://localhost:8080/"
        },
        "id": "S9RyNQVrNc4x",
        "outputId": "d9e7bd4c-5640-4c0c-f2c2-26c0580d36de"
      },
      "source": [
        "print(f'% คือการหารเอาเศษ เช่น 7%3 = { 7%3} ') #เพิ่ม f หน้า string และใช้ {} ใส่ code เพื่อที่จะให้แสดงค่าของคำตอบค่าใน {} เลย"
      ],
      "execution_count": 88,
      "outputs": [
        {
          "output_type": "stream",
          "text": [
            "% คือการหารเอาเศษ เช่น 7%3 = 1 \n"
          ],
          "name": "stdout"
        }
      ]
    },
    {
      "cell_type": "code",
      "metadata": {
        "colab": {
          "base_uri": "https://localhost:8080/"
        },
        "id": "lr_3jPSxOPsK",
        "outputId": "412dba07-3974-4ce3-9437-dbb7cff48fa2"
      },
      "source": [
        "print('% คือการหารเอาเศษ เช่น 7%3 = {7%3} ') #ไม่เพิ่ม f หน้า string และใช้ {} ใส่ code จะได้"
      ],
      "execution_count": 89,
      "outputs": [
        {
          "output_type": "stream",
          "text": [
            "% คือการหารเอาเศษ เช่น 7%3 = {7%3} \n"
          ],
          "name": "stdout"
        }
      ]
    },
    {
      "cell_type": "code",
      "metadata": {
        "colab": {
          "base_uri": "https://localhost:8080/"
        },
        "id": "vvA9yb_3Pn4K",
        "outputId": "df04fc04-c204-47b3-8bb1-840451648c75"
      },
      "source": [
        "print(f'% คือการหารเอาเศษ เช่น 7%3 = { 7%3} \\\r\n",
        "แต่\\n/ คือการหารปกติ เช่น 7/3 = {7/3} \\\r\n",
        "และ\\n// คือการหารเอาส่วน เช่น 7//3 = {7//3} \\\r\n",
        "หรือ\\nใช้ int()เพื่อหารเอาส่วน เช่น int(7/3) = {int(7/3)}') # \\n คือการขึ้นบรรทัดใหม่ \\ คือใช้ตัด code แต่คอมจะไม่เห็น"
      ],
      "execution_count": 90,
      "outputs": [
        {
          "output_type": "stream",
          "text": [
            "% คือการหารเอาเศษ เช่น 7%3 = 1 แต่\n",
            "/ คือการหารปกติ เช่น 7/3 = 2.3333333333333335 และ\n",
            "// คือการหารเอาส่วน เช่น 7//3 = 2 หรือ\n",
            "ใช้ int()เพื่อหารเอาส่วน เช่น int(7/3) = 2\n"
          ],
          "name": "stdout"
        }
      ]
    },
    {
      "cell_type": "markdown",
      "metadata": {
        "id": "l0H4lxNjRq5X"
      },
      "source": [
        "##Data Structure (โครงสร้างข้อมูล)"
      ]
    },
    {
      "cell_type": "markdown",
      "metadata": {
        "id": "JAsorHedR4Tf"
      },
      "source": [
        "###List คือ การเอาตัวแปรหลายๆตัวมาเรียงกัน\r\n",
        "list สามารถสร้างได้ 2 แบบ ดังนี้"
      ]
    },
    {
      "cell_type": "markdown",
      "metadata": {
        "id": "h97Iq3QDTYuu"
      },
      "source": [
        "####แบบที่ 1 square brackets"
      ]
    },
    {
      "cell_type": "code",
      "metadata": {
        "colab": {
          "base_uri": "https://localhost:8080/"
        },
        "id": "Wul7Jw8FRhrM",
        "outputId": "3a1f4fca-4c0d-4032-e5b2-431c8348dadd"
      },
      "source": [
        "list_a = []\r\n",
        "print(list_a)"
      ],
      "execution_count": 91,
      "outputs": [
        {
          "output_type": "stream",
          "text": [
            "[]\n"
          ],
          "name": "stdout"
        }
      ]
    },
    {
      "cell_type": "code",
      "metadata": {
        "id": "E3iIngddT7CQ"
      },
      "source": [
        "#list_b = [1,5,'v']\r\n",
        "#print(list_b)"
      ],
      "execution_count": 92,
      "outputs": []
    },
    {
      "cell_type": "code",
      "metadata": {
        "colab": {
          "base_uri": "https://localhost:8080/"
        },
        "id": "9z4XGR3jUypB",
        "outputId": "eb2801d2-9664-4f50-aed0-2f30cfaf0094"
      },
      "source": [
        "list_b = [111,'c','งง',aaa]\r\n",
        "print(list_b)"
      ],
      "execution_count": 93,
      "outputs": [
        {
          "output_type": "stream",
          "text": [
            "[111, 'c', 'งง', 1092]\n"
          ],
          "name": "stdout"
        }
      ]
    },
    {
      "cell_type": "markdown",
      "metadata": {
        "id": "O3-xx95MUPNo"
      },
      "source": [
        "###ลำดับที่อยู่ใน list มีความสำคัญ (ลำดับใน list เริ่มจาก 0,1,2,...)"
      ]
    },
    {
      "cell_type": "code",
      "metadata": {
        "colab": {
          "base_uri": "https://localhost:8080/",
          "height": 35
        },
        "id": "gPcDChv0UHE5",
        "outputId": "28f4edca-f5fd-4a22-9c9b-363e43205e69"
      },
      "source": [
        "list_b[2]"
      ],
      "execution_count": 94,
      "outputs": [
        {
          "output_type": "execute_result",
          "data": {
            "application/vnd.google.colaboratory.intrinsic+json": {
              "type": "string"
            },
            "text/plain": [
              "'งง'"
            ]
          },
          "metadata": {
            "tags": []
          },
          "execution_count": 94
        }
      ]
    },
    {
      "cell_type": "code",
      "metadata": {
        "colab": {
          "base_uri": "https://localhost:8080/"
        },
        "id": "dIp7TIpdUtJh",
        "outputId": "276b9424-020b-4899-9c0c-74b6812c44ba"
      },
      "source": [
        "list_b[0]"
      ],
      "execution_count": 95,
      "outputs": [
        {
          "output_type": "execute_result",
          "data": {
            "text/plain": [
              "111"
            ]
          },
          "metadata": {
            "tags": []
          },
          "execution_count": 95
        }
      ]
    },
    {
      "cell_type": "markdown",
      "metadata": {
        "id": "d0_d2hBNWSPq"
      },
      "source": [
        "####แบบที่ 2 "
      ]
    },
    {
      "cell_type": "code",
      "metadata": {
        "colab": {
          "base_uri": "https://localhost:8080/"
        },
        "id": "MGku19w1V-_i",
        "outputId": "3b2e7ca9-e8c3-4aec-d1aa-3146cf4e4cc5"
      },
      "source": [
        "list_c = list()\r\n",
        "print(list_c)"
      ],
      "execution_count": 96,
      "outputs": [
        {
          "output_type": "stream",
          "text": [
            "[]\n"
          ],
          "name": "stdout"
        }
      ]
    },
    {
      "cell_type": "markdown",
      "metadata": {
        "id": "vqHZHowkX3sp"
      },
      "source": [
        "####append() เพิ่มสมาชิกใน list"
      ]
    },
    {
      "cell_type": "code",
      "metadata": {
        "colab": {
          "base_uri": "https://localhost:8080/"
        },
        "id": "_WUdIH7iXn1g",
        "outputId": "4d0cbf61-ddbf-485a-b4de-6dbeac514291"
      },
      "source": [
        "list_b.append('u')\r\n",
        "print(list_b)"
      ],
      "execution_count": 97,
      "outputs": [
        {
          "output_type": "stream",
          "text": [
            "[111, 'c', 'งง', 1092, 'u']\n"
          ],
          "name": "stdout"
        }
      ]
    },
    {
      "cell_type": "markdown",
      "metadata": {
        "id": "6EStqEGDZx1_"
      },
      "source": [
        " ตัวที่อยู่ในวงเล็บหลังจากตัวแปร list  เรียกว่า index ใช้สำหรับชี้ข้อมูลใน list \r\n",
        " \r\n",
        " (ชี้จากข้างหน้า,ชี้จากข้างหลัง)\r\n",
        "\r\n",
        " 0 คือสมาชิกตัวแรก,-1 คือสมาชิกตัวสุดท้าย"
      ]
    },
    {
      "cell_type": "code",
      "metadata": {
        "colab": {
          "base_uri": "https://localhost:8080/",
          "height": 35
        },
        "id": "9nkk26VRYhY5",
        "outputId": "e2055b5b-1d93-4941-eaf2-a842b97c6266"
      },
      "source": [
        "list_b[-1] "
      ],
      "execution_count": 98,
      "outputs": [
        {
          "output_type": "execute_result",
          "data": {
            "application/vnd.google.colaboratory.intrinsic+json": {
              "type": "string"
            },
            "text/plain": [
              "'u'"
            ]
          },
          "metadata": {
            "tags": []
          },
          "execution_count": 98
        }
      ]
    },
    {
      "cell_type": "markdown",
      "metadata": {
        "id": "4oCoaXvOamRg"
      },
      "source": [
        "###String > list of characters"
      ]
    },
    {
      "cell_type": "code",
      "metadata": {
        "colab": {
          "base_uri": "https://localhost:8080/"
        },
        "id": "EVqOA_EzahUR",
        "outputId": "8fe5e8cb-5463-49f3-ad4e-8e5a92c918bb"
      },
      "source": [
        "t = 'python is easy'\r\n",
        "print(t)"
      ],
      "execution_count": 99,
      "outputs": [
        {
          "output_type": "stream",
          "text": [
            "python is easy\n"
          ],
          "name": "stdout"
        }
      ]
    },
    {
      "cell_type": "code",
      "metadata": {
        "colab": {
          "base_uri": "https://localhost:8080/",
          "height": 35
        },
        "id": "6M-jMl93brJp",
        "outputId": "1de09255-f70b-48a6-98ae-1e780251e323"
      },
      "source": [
        "t[1]"
      ],
      "execution_count": 100,
      "outputs": [
        {
          "output_type": "execute_result",
          "data": {
            "application/vnd.google.colaboratory.intrinsic+json": {
              "type": "string"
            },
            "text/plain": [
              "'y'"
            ]
          },
          "metadata": {
            "tags": []
          },
          "execution_count": 100
        }
      ]
    },
    {
      "cell_type": "code",
      "metadata": {
        "colab": {
          "base_uri": "https://localhost:8080/",
          "height": 35
        },
        "id": "hY6TJOc-cFJ_",
        "outputId": "7d73a1fe-6ceb-4ca0-bfca-631d31f8c534"
      },
      "source": [
        "t[-1]"
      ],
      "execution_count": 101,
      "outputs": [
        {
          "output_type": "execute_result",
          "data": {
            "application/vnd.google.colaboratory.intrinsic+json": {
              "type": "string"
            },
            "text/plain": [
              "'y'"
            ]
          },
          "metadata": {
            "tags": []
          },
          "execution_count": 101
        }
      ]
    },
    {
      "cell_type": "code",
      "metadata": {
        "colab": {
          "base_uri": "https://localhost:8080/",
          "height": 35
        },
        "id": "USmHPDqCcwnY",
        "outputId": "8505c512-6593-48e1-fefc-c212a2ab0071"
      },
      "source": [
        "t[-4]"
      ],
      "execution_count": 102,
      "outputs": [
        {
          "output_type": "execute_result",
          "data": {
            "application/vnd.google.colaboratory.intrinsic+json": {
              "type": "string"
            },
            "text/plain": [
              "'e'"
            ]
          },
          "metadata": {
            "tags": []
          },
          "execution_count": 102
        }
      ]
    },
    {
      "cell_type": "code",
      "metadata": {
        "colab": {
          "base_uri": "https://localhost:8080/",
          "height": 35
        },
        "id": "tOpm7tgZdHXF",
        "outputId": "6ea4ebe9-5a30-4b02-d237-0c199bb52521"
      },
      "source": [
        "t[6] #ตัวที่6ในตัวแปรtคือช่องว่าง"
      ],
      "execution_count": 103,
      "outputs": [
        {
          "output_type": "execute_result",
          "data": {
            "application/vnd.google.colaboratory.intrinsic+json": {
              "type": "string"
            },
            "text/plain": [
              "' '"
            ]
          },
          "metadata": {
            "tags": []
          },
          "execution_count": 103
        }
      ]
    },
    {
      "cell_type": "code",
      "metadata": {
        "id": "eFnHJ94GdFLB"
      },
      "source": [
        ""
      ],
      "execution_count": 103,
      "outputs": []
    },
    {
      "cell_type": "markdown",
      "metadata": {
        "id": "rAdr7jRtbScZ"
      },
      "source": [
        "#จบ 5 มค 2021"
      ]
    },
    {
      "cell_type": "markdown",
      "metadata": {
        "id": "oX0yyTklbGap"
      },
      "source": [
        "#คาบ 3 11 มค 2021"
      ]
    },
    {
      "cell_type": "code",
      "metadata": {
        "colab": {
          "base_uri": "https://localhost:8080/"
        },
        "id": "cnNlU0kKc8k4",
        "outputId": "88c5ba38-9948-4f52-c99c-4d680edfb152"
      },
      "source": [
        "len(t)"
      ],
      "execution_count": 104,
      "outputs": [
        {
          "output_type": "execute_result",
          "data": {
            "text/plain": [
              "14"
            ]
          },
          "metadata": {
            "tags": []
          },
          "execution_count": 104
        }
      ]
    },
    {
      "cell_type": "code",
      "metadata": {
        "colab": {
          "base_uri": "https://localhost:8080/"
        },
        "id": "F65HngjqbT4B",
        "outputId": "0ba5dd59-fb76-4225-f25f-f0132eb24354"
      },
      "source": [
        "len(list_b) # len คือ คำสั่งตรวจสอบความยาวของ list (จำนวนสมาชิก)"
      ],
      "execution_count": 105,
      "outputs": [
        {
          "output_type": "execute_result",
          "data": {
            "text/plain": [
              "5"
            ]
          },
          "metadata": {
            "tags": []
          },
          "execution_count": 105
        }
      ]
    },
    {
      "cell_type": "markdown",
      "metadata": {
        "id": "lpOXwi_2WqOb"
      },
      "source": [
        "#List slicing สามารถทำได้โดยใช้ colon :"
      ]
    },
    {
      "cell_type": "code",
      "metadata": {
        "colab": {
          "base_uri": "https://localhost:8080/"
        },
        "id": "ATba5hEtW8nV",
        "outputId": "d87662aa-1994-4d15-b991-2f3ad3136ad2"
      },
      "source": [
        "print(t)\r\n",
        "print(t[7:9])\r\n",
        "print(len(t[7:9]))"
      ],
      "execution_count": 106,
      "outputs": [
        {
          "output_type": "stream",
          "text": [
            "python is easy\n",
            "is\n",
            "2\n"
          ],
          "name": "stdout"
        }
      ]
    },
    {
      "cell_type": "code",
      "metadata": {
        "colab": {
          "base_uri": "https://localhost:8080/",
          "height": 35
        },
        "id": "keAQ_Iu9XUKR",
        "outputId": "91143be6-030d-4cfc-ab39-72fac4d78405"
      },
      "source": [
        "t[0:14:2] #เริ่มตัวที่ 0 แล้วหยิบทุกตัว 2 ตัว ไปจนครบ 14"
      ],
      "execution_count": 107,
      "outputs": [
        {
          "output_type": "execute_result",
          "data": {
            "application/vnd.google.colaboratory.intrinsic+json": {
              "type": "string"
            },
            "text/plain": [
              "'pto ses'"
            ]
          },
          "metadata": {
            "tags": []
          },
          "execution_count": 107
        }
      ]
    },
    {
      "cell_type": "code",
      "metadata": {
        "id": "wTtqNo6EYVle"
      },
      "source": [
        ""
      ],
      "execution_count": 107,
      "outputs": []
    },
    {
      "cell_type": "markdown",
      "metadata": {
        "id": "3vL42u80YcFc"
      },
      "source": [
        "#quiz"
      ]
    },
    {
      "cell_type": "markdown",
      "metadata": {
        "id": "jKC6uUYTYm8s"
      },
      "source": [
        "ให้ใช้ list slicing เลือกมาเฉพาะเลขคู่"
      ]
    },
    {
      "cell_type": "code",
      "metadata": {
        "colab": {
          "base_uri": "https://localhost:8080/"
        },
        "id": "A3n6q39sYkBC",
        "outputId": "022ed5ad-7a31-478e-99b2-992e83105e66"
      },
      "source": [
        "Z = [1,2,3,4,5,6,7,8,9,10]\r\n",
        "print(Z[1:10:2])"
      ],
      "execution_count": 108,
      "outputs": [
        {
          "output_type": "stream",
          "text": [
            "[2, 4, 6, 8, 10]\n"
          ],
          "name": "stdout"
        }
      ]
    },
    {
      "cell_type": "markdown",
      "metadata": {
        "id": "AliJ-CFHZBFi"
      },
      "source": [
        "ถ้าเว้นว่างข้างหน้า : หมายความว่า เริ่มตั้งแต่ตัวแรก (0)\r\n",
        "\r\n",
        "ถ้าเว้นว่างข้างหลัง : หมายความว่า ไปจนถึงตัวสุดท้าย l(en)(list)"
      ]
    },
    {
      "cell_type": "code",
      "metadata": {
        "colab": {
          "base_uri": "https://localhost:8080/"
        },
        "id": "jNDyree4ZDBZ",
        "outputId": "db7a29e2-d998-40ee-ecc8-613f9845e5f5"
      },
      "source": [
        "print(t)\r\n",
        "print(t[:6])\r\n",
        "print(t[10:])\r\n",
        "print(t[-4:])\r\n",
        "print(t[:])"
      ],
      "execution_count": 109,
      "outputs": [
        {
          "output_type": "stream",
          "text": [
            "python is easy\n",
            "python\n",
            "easy\n",
            "easy\n",
            "python is easy\n"
          ],
          "name": "stdout"
        }
      ]
    },
    {
      "cell_type": "code",
      "metadata": {
        "colab": {
          "base_uri": "https://localhost:8080/"
        },
        "id": "DIE34t4xZNWT",
        "outputId": "4e0b61e0-9b92-4127-cadf-14cf54533d33"
      },
      "source": [
        "print(Z[::2])"
      ],
      "execution_count": 110,
      "outputs": [
        {
          "output_type": "stream",
          "text": [
            "[1, 3, 5, 7, 9]\n"
          ],
          "name": "stdout"
        }
      ]
    },
    {
      "cell_type": "code",
      "metadata": {
        "id": "j9KugmLfZP0p"
      },
      "source": [
        ""
      ],
      "execution_count": 110,
      "outputs": []
    },
    {
      "cell_type": "markdown",
      "metadata": {
        "id": "JsMR6GyyZUWW"
      },
      "source": [
        "# เราสามารถเอา list มาต่อกันได้ด้วย +"
      ]
    },
    {
      "cell_type": "code",
      "metadata": {
        "colab": {
          "base_uri": "https://localhost:8080/",
          "height": 35
        },
        "id": "CqZDHXgxZTMR",
        "outputId": "9aaf0a84-2f78-47c4-b9d4-34446bba6833"
      },
      "source": [
        "t + '??'"
      ],
      "execution_count": 111,
      "outputs": [
        {
          "output_type": "execute_result",
          "data": {
            "application/vnd.google.colaboratory.intrinsic+json": {
              "type": "string"
            },
            "text/plain": [
              "'python is easy??'"
            ]
          },
          "metadata": {
            "tags": []
          },
          "execution_count": 111
        }
      ]
    },
    {
      "cell_type": "code",
      "metadata": {
        "colab": {
          "base_uri": "https://localhost:8080/",
          "height": 163
        },
        "id": "mA24xijMZZ4H",
        "outputId": "a7bce68f-056b-4010-aac7-0eeaa81618b0"
      },
      "source": [
        "t + list_b ## ไม่สามารถเอา list ปกติมาต่อกับ string ได้"
      ],
      "execution_count": 112,
      "outputs": [
        {
          "output_type": "error",
          "ename": "TypeError",
          "evalue": "ignored",
          "traceback": [
            "\u001b[0;31m---------------------------------------------------------------------------\u001b[0m",
            "\u001b[0;31mTypeError\u001b[0m                                 Traceback (most recent call last)",
            "\u001b[0;32m<ipython-input-112-8ceeb7529eac>\u001b[0m in \u001b[0;36m<module>\u001b[0;34m()\u001b[0m\n\u001b[0;32m----> 1\u001b[0;31m \u001b[0mt\u001b[0m \u001b[0;34m+\u001b[0m \u001b[0mlist_b\u001b[0m \u001b[0;31m## ไม่สามารถเอา list ปกติมาต่อกับ string ได้\u001b[0m\u001b[0;34m\u001b[0m\u001b[0;34m\u001b[0m\u001b[0m\n\u001b[0m",
            "\u001b[0;31mTypeError\u001b[0m: must be str, not list"
          ]
        }
      ]
    },
    {
      "cell_type": "code",
      "metadata": {
        "colab": {
          "base_uri": "https://localhost:8080/"
        },
        "id": "m3M9L9jSZdHe",
        "outputId": "fcfc3228-6ff3-4dc8-f74a-135168b66afa"
      },
      "source": [
        "print(list_a)\r\n",
        "list_b = [111, 'c', 'งง', aaa]\r\n",
        "print(list_b)\r\n",
        "print(list_b + list_a) # + คือการเอาสมาชิกมารวมกัน"
      ],
      "execution_count": 113,
      "outputs": [
        {
          "output_type": "stream",
          "text": [
            "[]\n",
            "[111, 'c', 'งง', 1092]\n",
            "[111, 'c', 'งง', 1092]\n"
          ],
          "name": "stdout"
        }
      ]
    },
    {
      "cell_type": "code",
      "metadata": {
        "colab": {
          "base_uri": "https://localhost:8080/"
        },
        "id": "8nrFkWt1Zgzh",
        "outputId": "fcdcb40a-b67d-4411-9217-ee2d2de37dc1"
      },
      "source": [
        "list_b . append(list_a)\r\n",
        "print(list_b)"
      ],
      "execution_count": 114,
      "outputs": [
        {
          "output_type": "stream",
          "text": [
            "[111, 'c', 'งง', 1092, []]\n"
          ],
          "name": "stdout"
        }
      ]
    },
    {
      "cell_type": "code",
      "metadata": {
        "id": "IhRq4n0KZkAe"
      },
      "source": [
        ""
      ],
      "execution_count": null,
      "outputs": []
    },
    {
      "cell_type": "markdown",
      "metadata": {
        "id": "1ZR5kzjtZm9u"
      },
      "source": [
        "# การแบ่ง string ตามสัญลักษณ์ที่กำหนด -> splist string"
      ]
    },
    {
      "cell_type": "code",
      "metadata": {
        "colab": {
          "base_uri": "https://localhost:8080/",
          "height": 35
        },
        "id": "PaftlZPtZnyx",
        "outputId": "6b031e66-e04d-4c77-8366-152c7d64afa3"
      },
      "source": [
        "t"
      ],
      "execution_count": 115,
      "outputs": [
        {
          "output_type": "execute_result",
          "data": {
            "application/vnd.google.colaboratory.intrinsic+json": {
              "type": "string"
            },
            "text/plain": [
              "'python is easy'"
            ]
          },
          "metadata": {
            "tags": []
          },
          "execution_count": 115
        }
      ]
    },
    {
      "cell_type": "code",
      "metadata": {
        "colab": {
          "base_uri": "https://localhost:8080/"
        },
        "id": "rdL5cxx9Zr8c",
        "outputId": "bfce58ff-7843-4f50-a20c-b79c651aa1fe"
      },
      "source": [
        "t.split(' ')"
      ],
      "execution_count": 116,
      "outputs": [
        {
          "output_type": "execute_result",
          "data": {
            "text/plain": [
              "['python', 'is', 'easy']"
            ]
          },
          "metadata": {
            "tags": []
          },
          "execution_count": 116
        }
      ]
    },
    {
      "cell_type": "code",
      "metadata": {
        "id": "JLw8qTP8ZtLe"
      },
      "source": [
        "time = '12:30:15'"
      ],
      "execution_count": 117,
      "outputs": []
    },
    {
      "cell_type": "code",
      "metadata": {
        "colab": {
          "base_uri": "https://localhost:8080/"
        },
        "id": "zMqy2gFmZvdE",
        "outputId": "ce04122b-8cbd-4b60-f9dc-2caad54f3222"
      },
      "source": [
        "t_sp = time.split(':')\r\n",
        "print(t_sp)"
      ],
      "execution_count": 118,
      "outputs": [
        {
          "output_type": "stream",
          "text": [
            "['12', '30', '15']\n"
          ],
          "name": "stdout"
        }
      ]
    },
    {
      "cell_type": "code",
      "metadata": {
        "colab": {
          "base_uri": "https://localhost:8080/"
        },
        "id": "leVBKnsZZx2-",
        "outputId": "e267905d-771d-4477-f555-273630b3d759"
      },
      "source": [
        "t_sp = t.split(' ')\r\n",
        "print(t_sp)\r\n"
      ],
      "execution_count": 119,
      "outputs": [
        {
          "output_type": "stream",
          "text": [
            "['python', 'is', 'easy']\n"
          ],
          "name": "stdout"
        }
      ]
    },
    {
      "cell_type": "code",
      "metadata": {
        "colab": {
          "base_uri": "https://localhost:8080/"
        },
        "id": "QNokomLcZ4lO",
        "outputId": "5690b2bf-27e2-487a-e946-f535de8a8c72"
      },
      "source": [
        "## วิธีรวมกลับ\r\n",
        "print(':'.join(t_sp))"
      ],
      "execution_count": 120,
      "outputs": [
        {
          "output_type": "stream",
          "text": [
            "python:is:easy\n"
          ],
          "name": "stdout"
        }
      ]
    },
    {
      "cell_type": "markdown",
      "metadata": {
        "id": "DiSBTUhdaBra"
      },
      "source": [
        "## HW คำนวณเวลาเป็นวินาทีของเลาต่อไปนี้โดยใช้คำสั่ง split() ช่วย(printออกมาให้สวยงาม)\r\n",
        "\r\n",
        "12:30:15\r\n",
        "\r\n",
        "13:41:07\r\n",
        "\r\n",
        "12:53:15\r\n",
        "\r\n",
        "00:59:25\r\n",
        "\r\n",
        "11:11:11\r\n",
        "\r\n",
        "16:06:09\r\n",
        "\r\n",
        "21:12:30\r\n",
        "\r\n",
        "10:06:15\r\n",
        "\r\n",
        "ตัวอย่าง > 00:01:10 = 70 วินาที\r\n",
        "\r\n",
        "ตัวอย่าง > 01:00:01 = 3601 วินาที"
      ]
    },
    {
      "cell_type": "code",
      "metadata": {
        "colab": {
          "base_uri": "https://localhost:8080/"
        },
        "id": "Q9jkZZHaaCxY",
        "outputId": "9ec74ba2-ea6b-45c7-f461-8c5fdaff71dc"
      },
      "source": [
        "q1 = '12:30:15'\r\n",
        "q1.split(':')\r\n",
        "list_q1 = [12,30,15]\r\n",
        "h = list_q1[0]*3600\r\n",
        "m = list_q1[1]*60\r\n",
        "s = list_q1[2]\r\n",
        "Ans_q1 = h+m+s\r\n",
        "print(Ans_q1,'วินาที')"
      ],
      "execution_count": 129,
      "outputs": [
        {
          "output_type": "stream",
          "text": [
            "45015 วินาที\n"
          ],
          "name": "stdout"
        }
      ]
    },
    {
      "cell_type": "code",
      "metadata": {
        "colab": {
          "base_uri": "https://localhost:8080/"
        },
        "id": "oC9FJ97MaHD6",
        "outputId": "34992688-da95-401f-d864-66fb20895912"
      },
      "source": [
        "q2 = '13:41:07'\r\n",
        "q2.split(':')\r\n",
        "list_q2 = [13,41,7]\r\n",
        "h = list_q2[0]*3600\r\n",
        "m = list_q2[1]*60\r\n",
        "s = list_q2[2]\r\n",
        "Ans_q2 = h+m+s\r\n",
        "print(Ans_q2,'วินาที')"
      ],
      "execution_count": 130,
      "outputs": [
        {
          "output_type": "stream",
          "text": [
            "49267 วินาที\n"
          ],
          "name": "stdout"
        }
      ]
    },
    {
      "cell_type": "code",
      "metadata": {
        "colab": {
          "base_uri": "https://localhost:8080/"
        },
        "id": "Lqhls2czaJYO",
        "outputId": "08ffca45-97ba-42bc-aac5-ac4064aad81d"
      },
      "source": [
        "q3 = '12:53:15'\r\n",
        "q3.split(':')\r\n",
        "list_q3 = [12,53,15]\r\n",
        "h = list_q3[0]*3600\r\n",
        "m = list_q3[1]*60\r\n",
        "s = list_q3[2]\r\n",
        "Ans_q3 = h+m+s\r\n",
        "print(Ans_q3,'วินาที')"
      ],
      "execution_count": 131,
      "outputs": [
        {
          "output_type": "stream",
          "text": [
            "46395 วินาที\n"
          ],
          "name": "stdout"
        }
      ]
    },
    {
      "cell_type": "code",
      "metadata": {
        "colab": {
          "base_uri": "https://localhost:8080/"
        },
        "id": "CH3a8A2waOCs",
        "outputId": "71704dd7-074f-4c06-9710-9ce45d1b82f3"
      },
      "source": [
        "q4 = '00:59:25'\r\n",
        "q4.split(':')\r\n",
        "list_q4 = [00,59,25]\r\n",
        "h = list_q4[0]*3600\r\n",
        "m = list_q4[1]*60\r\n",
        "s = list_q4[2]\r\n",
        "Ans_q4 = h+m+s\r\n",
        "print(Ans_q4,'วินาที')"
      ],
      "execution_count": 132,
      "outputs": [
        {
          "output_type": "stream",
          "text": [
            "3565 วินาที\n"
          ],
          "name": "stdout"
        }
      ]
    },
    {
      "cell_type": "code",
      "metadata": {
        "colab": {
          "base_uri": "https://localhost:8080/"
        },
        "id": "RCAwHBQxaPIX",
        "outputId": "1d128bd9-4189-4bee-9766-6579288bc251"
      },
      "source": [
        "q5 = '11:11:11'\r\n",
        "q5.split(':')\r\n",
        "list_q5 = [11,11,11]\r\n",
        "h = list_q5[0]*3600\r\n",
        "m = list_q5[1]*60\r\n",
        "s = list_q5[2]\r\n",
        "Ans_q5 = h+m+s\r\n",
        "print(Ans_q5,'วินาที')"
      ],
      "execution_count": 133,
      "outputs": [
        {
          "output_type": "stream",
          "text": [
            "40271 วินาที\n"
          ],
          "name": "stdout"
        }
      ]
    },
    {
      "cell_type": "code",
      "metadata": {
        "colab": {
          "base_uri": "https://localhost:8080/"
        },
        "id": "-hCiKxZNaRmB",
        "outputId": "edd22152-0d4f-4140-993c-e593edf16712"
      },
      "source": [
        "q6 = '16:06:09'\r\n",
        "q6.split(':')\r\n",
        "list_q6 = [16,6,9]\r\n",
        "h = list_q6[0]*3600\r\n",
        "m = list_q6[1]*60\r\n",
        "s = list_q6[2]\r\n",
        "Ans_q6 = h+m+s\r\n",
        "print(Ans_q6,'วินาที')"
      ],
      "execution_count": 134,
      "outputs": [
        {
          "output_type": "stream",
          "text": [
            "57969 วินาที\n"
          ],
          "name": "stdout"
        }
      ]
    },
    {
      "cell_type": "code",
      "metadata": {
        "colab": {
          "base_uri": "https://localhost:8080/"
        },
        "id": "RXk7LglqaUqS",
        "outputId": "d3693402-5b6a-4cec-aa66-b6aa28795a21"
      },
      "source": [
        "q7 = '21:12:30'\r\n",
        "q7.split(':')\r\n",
        "list_q7 = [21,12,30]\r\n",
        "h = list_q7[0]*3600\r\n",
        "m = list_q7[1]*60\r\n",
        "s = list_q7[2]\r\n",
        "Ans_q7 = h+m+s\r\n",
        "print(Ans_q7,'วินาที')"
      ],
      "execution_count": 135,
      "outputs": [
        {
          "output_type": "stream",
          "text": [
            "76350 วินาที\n"
          ],
          "name": "stdout"
        }
      ]
    },
    {
      "cell_type": "code",
      "metadata": {
        "colab": {
          "base_uri": "https://localhost:8080/"
        },
        "id": "vqwNDEXgaXZC",
        "outputId": "9e1073c7-7bf3-4f35-f639-aee2c2e3f3d0"
      },
      "source": [
        "q8 = '10:06:15'\r\n",
        "q8.split(':')\r\n",
        "list_q8 = [10,6,15]\r\n",
        "h = list_q8[0]*3600\r\n",
        "m = list_q8[1]*60\r\n",
        "s = list_q8[2]\r\n",
        "Ans_q8 = h+m+s\r\n",
        "print(Ans_q8,'วินาที')"
      ],
      "execution_count": 136,
      "outputs": [
        {
          "output_type": "stream",
          "text": [
            "36375 วินาที\n"
          ],
          "name": "stdout"
        }
      ]
    }
  ]
}