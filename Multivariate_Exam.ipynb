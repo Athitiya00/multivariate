{
  "nbformat": 4,
  "nbformat_minor": 0,
  "metadata": {
    "colab": {
      "name": "Multivariate Exam.ipynb",
      "provenance": [],
      "include_colab_link": true
    },
    "kernelspec": {
      "name": "python3",
      "display_name": "Python 3"
    },
    "language_info": {
      "name": "python"
    }
  },
  "cells": [
    {
      "cell_type": "markdown",
      "metadata": {
        "id": "view-in-github",
        "colab_type": "text"
      },
      "source": [
        "<a href=\"https://colab.research.google.com/github/Athitiya00/multivariate/blob/main/Multivariate_Exam.ipynb\" target=\"_parent\"><img src=\"https://colab.research.google.com/assets/colab-badge.svg\" alt=\"Open In Colab\"/></a>"
      ]
    },
    {
      "cell_type": "markdown",
      "metadata": {
        "id": "JZxiNADfaDtv"
      },
      "source": [
        "ให้นักศึกษาทำข้อสอบใน Colab Notebook นี้โดยกรอกข้อมูลของตัวเองใน cell ที่ 2 แล้วรัน cell ที่ 1 - 5 และเริ่มทำข้อสอบใน cell ที่ 6 เป็นต้นไป\n",
        "\n",
        "โดยโจทย์คือ\n",
        "1. ข้อมูลโจทย์ อยู่ใน ตัวแปร ```Data```\n",
        "2. ทำ clustering แล้วทำ visualize ข้อมูลแบบ 2 มิติ\n",
        "3. ลด Dimension ของข้อมูลเหลือ 2 มิติ แล้วทำ clustering แล้ว visualize ข้อมูลแบบ 2 มิติ\n",
        "4. เปรียบเทียบความแตกต่างของผลข้อ 2. กับ ข้อ 3.\n",
        "5. เขียน comments อธิบายทุกขั้นตอน\n",
        "6. อัด video อธิบาย code ทุกๆขั้นตอนรวมถึงผลแล้วอัพลง youtube ในรูปแบบ unlist \n",
        "7. commit โดยใช้ชื่อ commit เป็น link youtube ที่อธิบาย code ในข้อ 6.\n",
        "\n",
        "กำหนดส่งวันที่ 2 พฤษภาคม 2564 (โดยให้มากรอกวันที่ commit ครั้งสุดท้ายใน sheet: https://docs.google.com/spreadsheets/d/1_qJwLDJVtOW1HxBcf_FHVc6UT4J_SOonuR6o3EEnVzw/edit?usp=sharing ช่อง Final)"
      ]
    },
    {
      "cell_type": "code",
      "metadata": {
        "id": "cWl2x1bPGtQl"
      },
      "source": [
        "from sklearn.datasets import make_blobs\n",
        "import random,math\n",
        "import numpy as np\n",
        "import pandas"
      ],
      "execution_count": 1,
      "outputs": []
    },
    {
      "cell_type": "code",
      "metadata": {
        "id": "gZfzuiHsZksh"
      },
      "source": [
        "Name = 'อาธิติยา ธรรมวงษา'\n",
        "ID = '623021058-0'"
      ],
      "execution_count": 2,
      "outputs": []
    },
    {
      "cell_type": "code",
      "metadata": {
        "id": "8hFQXkF5aAiA"
      },
      "source": [
        "def DataGenerator(name,id):\n",
        "    random.seed(int(id[3:6]))\n",
        "    numfeat = random.randint(20,30)\n",
        "    ct = random.randint(len(name)-6,len(name))\n",
        "    \n",
        "    X, y = make_blobs(n_samples=10000, centers=ct, n_features=numfeat , random_state=int(id[3:6]))\n",
        "\n",
        "    print(f'{id[3:6]}:{numfeat}:{ct}')\n",
        "    X_t = (X[:,1]*2)+int(id[3])\n",
        "    X_t2 = (X[:,-1]*5)+int(id[4])\n",
        "\n",
        "    DT = np.append(X,X_t.reshape([10000,1]),axis=1)\n",
        "    DT = np.append(DT,X_t2.reshape([10000,1]),axis=1)\n",
        "    \n",
        "    return pandas.DataFrame(DT)"
      ],
      "execution_count": 3,
      "outputs": []
    },
    {
      "cell_type": "code",
      "metadata": {
        "colab": {
          "base_uri": "https://localhost:8080/"
        },
        "id": "hbXlxumSBX9i",
        "outputId": "e2fe70b0-1045-483a-f138-17a9ecb57aa5"
      },
      "source": [
        "Data = DataGenerator(Name,ID)"
      ],
      "execution_count": 4,
      "outputs": [
        {
          "output_type": "stream",
          "text": [
            "021:22:14\n"
          ],
          "name": "stdout"
        }
      ]
    },
    {
      "cell_type": "code",
      "metadata": {
        "colab": {
          "base_uri": "https://localhost:8080/",
          "height": 419
        },
        "id": "pQcCySXvBdN-",
        "outputId": "f1ca155c-9414-4482-ae6d-79fe4b6036b6"
      },
      "source": [
        "Data"
      ],
      "execution_count": 5,
      "outputs": [
        {
          "output_type": "execute_result",
          "data": {
            "text/html": [
              "<div>\n",
              "<style scoped>\n",
              "    .dataframe tbody tr th:only-of-type {\n",
              "        vertical-align: middle;\n",
              "    }\n",
              "\n",
              "    .dataframe tbody tr th {\n",
              "        vertical-align: top;\n",
              "    }\n",
              "\n",
              "    .dataframe thead th {\n",
              "        text-align: right;\n",
              "    }\n",
              "</style>\n",
              "<table border=\"1\" class=\"dataframe\">\n",
              "  <thead>\n",
              "    <tr style=\"text-align: right;\">\n",
              "      <th></th>\n",
              "      <th>0</th>\n",
              "      <th>1</th>\n",
              "      <th>2</th>\n",
              "      <th>3</th>\n",
              "      <th>4</th>\n",
              "      <th>5</th>\n",
              "      <th>6</th>\n",
              "      <th>7</th>\n",
              "      <th>8</th>\n",
              "      <th>9</th>\n",
              "      <th>10</th>\n",
              "      <th>11</th>\n",
              "      <th>12</th>\n",
              "      <th>13</th>\n",
              "      <th>14</th>\n",
              "      <th>15</th>\n",
              "      <th>16</th>\n",
              "      <th>17</th>\n",
              "      <th>18</th>\n",
              "      <th>19</th>\n",
              "      <th>20</th>\n",
              "      <th>21</th>\n",
              "      <th>22</th>\n",
              "      <th>23</th>\n",
              "    </tr>\n",
              "  </thead>\n",
              "  <tbody>\n",
              "    <tr>\n",
              "      <th>0</th>\n",
              "      <td>-9.426576</td>\n",
              "      <td>-4.376342</td>\n",
              "      <td>3.475123</td>\n",
              "      <td>-9.964274</td>\n",
              "      <td>-7.473798</td>\n",
              "      <td>-8.877976</td>\n",
              "      <td>-5.008762</td>\n",
              "      <td>6.322720</td>\n",
              "      <td>-3.828949</td>\n",
              "      <td>1.867419</td>\n",
              "      <td>-8.083785</td>\n",
              "      <td>7.770605</td>\n",
              "      <td>-6.873573</td>\n",
              "      <td>-6.108583</td>\n",
              "      <td>0.318526</td>\n",
              "      <td>8.018442</td>\n",
              "      <td>4.662985</td>\n",
              "      <td>8.758816</td>\n",
              "      <td>5.459240</td>\n",
              "      <td>-2.219485</td>\n",
              "      <td>-1.991638</td>\n",
              "      <td>3.436048</td>\n",
              "      <td>-8.752684</td>\n",
              "      <td>19.180239</td>\n",
              "    </tr>\n",
              "    <tr>\n",
              "      <th>1</th>\n",
              "      <td>-1.504680</td>\n",
              "      <td>-4.798100</td>\n",
              "      <td>-9.477033</td>\n",
              "      <td>7.594804</td>\n",
              "      <td>8.830604</td>\n",
              "      <td>9.330478</td>\n",
              "      <td>8.785840</td>\n",
              "      <td>-8.155954</td>\n",
              "      <td>7.534038</td>\n",
              "      <td>-9.153681</td>\n",
              "      <td>8.121219</td>\n",
              "      <td>6.385155</td>\n",
              "      <td>8.018150</td>\n",
              "      <td>5.199183</td>\n",
              "      <td>8.194834</td>\n",
              "      <td>5.343283</td>\n",
              "      <td>8.596106</td>\n",
              "      <td>-8.518229</td>\n",
              "      <td>2.092111</td>\n",
              "      <td>6.203299</td>\n",
              "      <td>7.313643</td>\n",
              "      <td>-9.502662</td>\n",
              "      <td>-9.596201</td>\n",
              "      <td>-45.513311</td>\n",
              "    </tr>\n",
              "    <tr>\n",
              "      <th>2</th>\n",
              "      <td>-0.724281</td>\n",
              "      <td>-3.474088</td>\n",
              "      <td>-7.808672</td>\n",
              "      <td>9.030851</td>\n",
              "      <td>8.839823</td>\n",
              "      <td>8.814363</td>\n",
              "      <td>9.691501</td>\n",
              "      <td>-9.396026</td>\n",
              "      <td>7.542054</td>\n",
              "      <td>-8.843869</td>\n",
              "      <td>8.885087</td>\n",
              "      <td>4.696764</td>\n",
              "      <td>7.429579</td>\n",
              "      <td>5.172997</td>\n",
              "      <td>6.781114</td>\n",
              "      <td>4.759322</td>\n",
              "      <td>8.378016</td>\n",
              "      <td>-8.474100</td>\n",
              "      <td>3.362103</td>\n",
              "      <td>6.338624</td>\n",
              "      <td>8.772902</td>\n",
              "      <td>-9.134738</td>\n",
              "      <td>-6.948176</td>\n",
              "      <td>-43.673691</td>\n",
              "    </tr>\n",
              "    <tr>\n",
              "      <th>3</th>\n",
              "      <td>8.037503</td>\n",
              "      <td>7.536090</td>\n",
              "      <td>4.304222</td>\n",
              "      <td>1.368213</td>\n",
              "      <td>7.655374</td>\n",
              "      <td>5.877472</td>\n",
              "      <td>-10.673538</td>\n",
              "      <td>3.329210</td>\n",
              "      <td>1.672791</td>\n",
              "      <td>-0.114393</td>\n",
              "      <td>-2.519571</td>\n",
              "      <td>-3.016721</td>\n",
              "      <td>-4.771517</td>\n",
              "      <td>6.474865</td>\n",
              "      <td>5.012202</td>\n",
              "      <td>-6.992676</td>\n",
              "      <td>3.322683</td>\n",
              "      <td>6.385760</td>\n",
              "      <td>6.283564</td>\n",
              "      <td>-3.763382</td>\n",
              "      <td>-4.210971</td>\n",
              "      <td>-4.080487</td>\n",
              "      <td>15.072180</td>\n",
              "      <td>-18.402434</td>\n",
              "    </tr>\n",
              "    <tr>\n",
              "      <th>4</th>\n",
              "      <td>-0.643676</td>\n",
              "      <td>-5.098232</td>\n",
              "      <td>6.426570</td>\n",
              "      <td>-2.833146</td>\n",
              "      <td>-4.292058</td>\n",
              "      <td>-3.105426</td>\n",
              "      <td>2.996073</td>\n",
              "      <td>-3.192412</td>\n",
              "      <td>-4.275848</td>\n",
              "      <td>6.586916</td>\n",
              "      <td>1.208168</td>\n",
              "      <td>5.088648</td>\n",
              "      <td>8.835935</td>\n",
              "      <td>-5.743763</td>\n",
              "      <td>0.456918</td>\n",
              "      <td>-6.460829</td>\n",
              "      <td>9.504938</td>\n",
              "      <td>5.275986</td>\n",
              "      <td>2.749596</td>\n",
              "      <td>-6.231896</td>\n",
              "      <td>8.339736</td>\n",
              "      <td>-10.052189</td>\n",
              "      <td>-10.196465</td>\n",
              "      <td>-48.260945</td>\n",
              "    </tr>\n",
              "    <tr>\n",
              "      <th>...</th>\n",
              "      <td>...</td>\n",
              "      <td>...</td>\n",
              "      <td>...</td>\n",
              "      <td>...</td>\n",
              "      <td>...</td>\n",
              "      <td>...</td>\n",
              "      <td>...</td>\n",
              "      <td>...</td>\n",
              "      <td>...</td>\n",
              "      <td>...</td>\n",
              "      <td>...</td>\n",
              "      <td>...</td>\n",
              "      <td>...</td>\n",
              "      <td>...</td>\n",
              "      <td>...</td>\n",
              "      <td>...</td>\n",
              "      <td>...</td>\n",
              "      <td>...</td>\n",
              "      <td>...</td>\n",
              "      <td>...</td>\n",
              "      <td>...</td>\n",
              "      <td>...</td>\n",
              "      <td>...</td>\n",
              "      <td>...</td>\n",
              "    </tr>\n",
              "    <tr>\n",
              "      <th>9995</th>\n",
              "      <td>-0.471211</td>\n",
              "      <td>-3.878440</td>\n",
              "      <td>4.976258</td>\n",
              "      <td>-2.952263</td>\n",
              "      <td>-6.353971</td>\n",
              "      <td>-2.629481</td>\n",
              "      <td>4.286065</td>\n",
              "      <td>-2.341729</td>\n",
              "      <td>-4.328366</td>\n",
              "      <td>8.389839</td>\n",
              "      <td>1.109955</td>\n",
              "      <td>5.005765</td>\n",
              "      <td>9.732920</td>\n",
              "      <td>-4.022717</td>\n",
              "      <td>-1.276452</td>\n",
              "      <td>-7.988043</td>\n",
              "      <td>9.769834</td>\n",
              "      <td>6.570557</td>\n",
              "      <td>4.351780</td>\n",
              "      <td>-4.629683</td>\n",
              "      <td>8.995164</td>\n",
              "      <td>-8.866562</td>\n",
              "      <td>-7.756880</td>\n",
              "      <td>-42.332809</td>\n",
              "    </tr>\n",
              "    <tr>\n",
              "      <th>9996</th>\n",
              "      <td>-10.560733</td>\n",
              "      <td>-6.007623</td>\n",
              "      <td>5.014512</td>\n",
              "      <td>-12.238524</td>\n",
              "      <td>-5.664494</td>\n",
              "      <td>-10.884708</td>\n",
              "      <td>-2.081247</td>\n",
              "      <td>4.273204</td>\n",
              "      <td>-4.103752</td>\n",
              "      <td>1.356016</td>\n",
              "      <td>-10.396789</td>\n",
              "      <td>7.701799</td>\n",
              "      <td>-7.347034</td>\n",
              "      <td>-6.822259</td>\n",
              "      <td>0.699940</td>\n",
              "      <td>6.524154</td>\n",
              "      <td>6.611412</td>\n",
              "      <td>7.812663</td>\n",
              "      <td>3.459987</td>\n",
              "      <td>-2.957703</td>\n",
              "      <td>-1.717942</td>\n",
              "      <td>3.612419</td>\n",
              "      <td>-12.015246</td>\n",
              "      <td>20.062094</td>\n",
              "    </tr>\n",
              "    <tr>\n",
              "      <th>9997</th>\n",
              "      <td>-0.274193</td>\n",
              "      <td>-5.624442</td>\n",
              "      <td>-4.132013</td>\n",
              "      <td>-3.784893</td>\n",
              "      <td>-7.780816</td>\n",
              "      <td>5.146189</td>\n",
              "      <td>4.412614</td>\n",
              "      <td>-9.097709</td>\n",
              "      <td>-5.357306</td>\n",
              "      <td>-3.464257</td>\n",
              "      <td>6.210606</td>\n",
              "      <td>-0.096741</td>\n",
              "      <td>0.517492</td>\n",
              "      <td>-4.799790</td>\n",
              "      <td>1.843947</td>\n",
              "      <td>6.922275</td>\n",
              "      <td>12.290972</td>\n",
              "      <td>-8.767819</td>\n",
              "      <td>0.280662</td>\n",
              "      <td>-7.123301</td>\n",
              "      <td>5.770248</td>\n",
              "      <td>3.728265</td>\n",
              "      <td>-11.248883</td>\n",
              "      <td>20.641323</td>\n",
              "    </tr>\n",
              "    <tr>\n",
              "      <th>9998</th>\n",
              "      <td>-6.004195</td>\n",
              "      <td>6.431052</td>\n",
              "      <td>7.613415</td>\n",
              "      <td>5.964495</td>\n",
              "      <td>-0.585159</td>\n",
              "      <td>-8.024162</td>\n",
              "      <td>-3.890882</td>\n",
              "      <td>-3.630688</td>\n",
              "      <td>-2.221155</td>\n",
              "      <td>-0.537819</td>\n",
              "      <td>-0.668570</td>\n",
              "      <td>-6.532314</td>\n",
              "      <td>7.532070</td>\n",
              "      <td>3.238244</td>\n",
              "      <td>5.107010</td>\n",
              "      <td>-6.098886</td>\n",
              "      <td>2.428073</td>\n",
              "      <td>3.820027</td>\n",
              "      <td>-2.835451</td>\n",
              "      <td>-0.432642</td>\n",
              "      <td>4.799660</td>\n",
              "      <td>2.761357</td>\n",
              "      <td>12.862104</td>\n",
              "      <td>15.806783</td>\n",
              "    </tr>\n",
              "    <tr>\n",
              "      <th>9999</th>\n",
              "      <td>8.774366</td>\n",
              "      <td>-0.737258</td>\n",
              "      <td>5.278708</td>\n",
              "      <td>7.608315</td>\n",
              "      <td>4.155801</td>\n",
              "      <td>6.949827</td>\n",
              "      <td>4.351027</td>\n",
              "      <td>-0.711411</td>\n",
              "      <td>-5.087614</td>\n",
              "      <td>7.552106</td>\n",
              "      <td>-9.178622</td>\n",
              "      <td>-2.162664</td>\n",
              "      <td>-4.793115</td>\n",
              "      <td>1.477523</td>\n",
              "      <td>9.021584</td>\n",
              "      <td>-2.451813</td>\n",
              "      <td>5.766895</td>\n",
              "      <td>8.312502</td>\n",
              "      <td>2.675544</td>\n",
              "      <td>-3.415289</td>\n",
              "      <td>7.336294</td>\n",
              "      <td>0.169953</td>\n",
              "      <td>-1.474516</td>\n",
              "      <td>2.849766</td>\n",
              "    </tr>\n",
              "  </tbody>\n",
              "</table>\n",
              "<p>10000 rows × 24 columns</p>\n",
              "</div>"
            ],
            "text/plain": [
              "             0         1         2   ...         21         22         23\n",
              "0     -9.426576 -4.376342  3.475123  ...   3.436048  -8.752684  19.180239\n",
              "1     -1.504680 -4.798100 -9.477033  ...  -9.502662  -9.596201 -45.513311\n",
              "2     -0.724281 -3.474088 -7.808672  ...  -9.134738  -6.948176 -43.673691\n",
              "3      8.037503  7.536090  4.304222  ...  -4.080487  15.072180 -18.402434\n",
              "4     -0.643676 -5.098232  6.426570  ... -10.052189 -10.196465 -48.260945\n",
              "...         ...       ...       ...  ...        ...        ...        ...\n",
              "9995  -0.471211 -3.878440  4.976258  ...  -8.866562  -7.756880 -42.332809\n",
              "9996 -10.560733 -6.007623  5.014512  ...   3.612419 -12.015246  20.062094\n",
              "9997  -0.274193 -5.624442 -4.132013  ...   3.728265 -11.248883  20.641323\n",
              "9998  -6.004195  6.431052  7.613415  ...   2.761357  12.862104  15.806783\n",
              "9999   8.774366 -0.737258  5.278708  ...   0.169953  -1.474516   2.849766\n",
              "\n",
              "[10000 rows x 24 columns]"
            ]
          },
          "metadata": {
            "tags": []
          },
          "execution_count": 5
        }
      ]
    },
    {
      "cell_type": "code",
      "metadata": {
        "id": "jUARadkFEuyJ",
        "outputId": "7662eb15-b1de-42db-efb6-4a1f1c43daed",
        "colab": {
          "base_uri": "https://localhost:8080/"
        }
      },
      "source": [
        "Data.shape#ดูนาดของข้อมูล"
      ],
      "execution_count": 6,
      "outputs": [
        {
          "output_type": "execute_result",
          "data": {
            "text/plain": [
              "(10000, 24)"
            ]
          },
          "metadata": {
            "tags": []
          },
          "execution_count": 6
        }
      ]
    },
    {
      "cell_type": "code",
      "metadata": {
        "id": "I7g0MT7zgwE9"
      },
      "source": [
        "corr = np.corrcoef(Data.to_numpy().T)"
      ],
      "execution_count": 7,
      "outputs": []
    },
    {
      "cell_type": "code",
      "metadata": {
        "id": "Dd49lyJhhEAo",
        "outputId": "825f6cf2-f95b-47d6-d11f-c4995ded08a9",
        "colab": {
          "base_uri": "https://localhost:8080/"
        }
      },
      "source": [
        "corr.shape "
      ],
      "execution_count": 8,
      "outputs": [
        {
          "output_type": "execute_result",
          "data": {
            "text/plain": [
              "(24, 24)"
            ]
          },
          "metadata": {
            "tags": []
          },
          "execution_count": 8
        }
      ]
    },
    {
      "cell_type": "code",
      "metadata": {
        "id": "tR91NmTPhGyl"
      },
      "source": [
        "corr"
      ],
      "execution_count": null,
      "outputs": []
    },
    {
      "cell_type": "code",
      "metadata": {
        "id": "pM4W6FSWhR2M",
        "outputId": "5b273136-7f3b-446a-a0f1-25cde82510c2",
        "colab": {
          "base_uri": "https://localhost:8080/"
        }
      },
      "source": [
        "for i in range(corr.shape[0]):\n",
        "    for j in range(corr.shape[1]):\n",
        "        if (i !=j) and (corr[i,j] == 1.):\n",
        "            print(f'row = {i} column = {j} corrcoef = {corr[i,j]}')\n",
        "#หาค่า correlation ที่ซ้ำกัน"
      ],
      "execution_count": 10,
      "outputs": [
        {
          "output_type": "stream",
          "text": [
            "row = 1 column = 22 corrcoef = 1.0\n",
            "row = 21 column = 23 corrcoef = 1.0\n",
            "row = 22 column = 1 corrcoef = 1.0\n",
            "row = 23 column = 21 corrcoef = 1.0\n"
          ],
          "name": "stdout"
        }
      ]
    },
    {
      "cell_type": "markdown",
      "metadata": {
        "id": "dqylcU1qhleq"
      },
      "source": [
        "จากการวนลูปพบว่าค่าที่มีค่าที่เท่ากันหรือซ้ำกัน จึงจำเป็นที่จะต้องตัดข้อมูลออกก่อนนำไปใช้ โดยการแสดงข้อมูลทั้งหมด"
      ]
    },
    {
      "cell_type": "code",
      "metadata": {
        "id": "rkIwUqmbhW5r",
        "outputId": "32816d2b-b217-4eb4-d75f-c47c18de6488",
        "colab": {
          "base_uri": "https://localhost:8080/",
          "height": 419
        }
      },
      "source": [
        "newdata = Data.iloc[1:,:24]\n",
        "newdata"
      ],
      "execution_count": 12,
      "outputs": [
        {
          "output_type": "execute_result",
          "data": {
            "text/html": [
              "<div>\n",
              "<style scoped>\n",
              "    .dataframe tbody tr th:only-of-type {\n",
              "        vertical-align: middle;\n",
              "    }\n",
              "\n",
              "    .dataframe tbody tr th {\n",
              "        vertical-align: top;\n",
              "    }\n",
              "\n",
              "    .dataframe thead th {\n",
              "        text-align: right;\n",
              "    }\n",
              "</style>\n",
              "<table border=\"1\" class=\"dataframe\">\n",
              "  <thead>\n",
              "    <tr style=\"text-align: right;\">\n",
              "      <th></th>\n",
              "      <th>0</th>\n",
              "      <th>1</th>\n",
              "      <th>2</th>\n",
              "      <th>3</th>\n",
              "      <th>4</th>\n",
              "      <th>5</th>\n",
              "      <th>6</th>\n",
              "      <th>7</th>\n",
              "      <th>8</th>\n",
              "      <th>9</th>\n",
              "      <th>10</th>\n",
              "      <th>11</th>\n",
              "      <th>12</th>\n",
              "      <th>13</th>\n",
              "      <th>14</th>\n",
              "      <th>15</th>\n",
              "      <th>16</th>\n",
              "      <th>17</th>\n",
              "      <th>18</th>\n",
              "      <th>19</th>\n",
              "      <th>20</th>\n",
              "      <th>21</th>\n",
              "      <th>22</th>\n",
              "      <th>23</th>\n",
              "    </tr>\n",
              "  </thead>\n",
              "  <tbody>\n",
              "    <tr>\n",
              "      <th>1</th>\n",
              "      <td>-1.504680</td>\n",
              "      <td>-4.798100</td>\n",
              "      <td>-9.477033</td>\n",
              "      <td>7.594804</td>\n",
              "      <td>8.830604</td>\n",
              "      <td>9.330478</td>\n",
              "      <td>8.785840</td>\n",
              "      <td>-8.155954</td>\n",
              "      <td>7.534038</td>\n",
              "      <td>-9.153681</td>\n",
              "      <td>8.121219</td>\n",
              "      <td>6.385155</td>\n",
              "      <td>8.018150</td>\n",
              "      <td>5.199183</td>\n",
              "      <td>8.194834</td>\n",
              "      <td>5.343283</td>\n",
              "      <td>8.596106</td>\n",
              "      <td>-8.518229</td>\n",
              "      <td>2.092111</td>\n",
              "      <td>6.203299</td>\n",
              "      <td>7.313643</td>\n",
              "      <td>-9.502662</td>\n",
              "      <td>-9.596201</td>\n",
              "      <td>-45.513311</td>\n",
              "    </tr>\n",
              "    <tr>\n",
              "      <th>2</th>\n",
              "      <td>-0.724281</td>\n",
              "      <td>-3.474088</td>\n",
              "      <td>-7.808672</td>\n",
              "      <td>9.030851</td>\n",
              "      <td>8.839823</td>\n",
              "      <td>8.814363</td>\n",
              "      <td>9.691501</td>\n",
              "      <td>-9.396026</td>\n",
              "      <td>7.542054</td>\n",
              "      <td>-8.843869</td>\n",
              "      <td>8.885087</td>\n",
              "      <td>4.696764</td>\n",
              "      <td>7.429579</td>\n",
              "      <td>5.172997</td>\n",
              "      <td>6.781114</td>\n",
              "      <td>4.759322</td>\n",
              "      <td>8.378016</td>\n",
              "      <td>-8.474100</td>\n",
              "      <td>3.362103</td>\n",
              "      <td>6.338624</td>\n",
              "      <td>8.772902</td>\n",
              "      <td>-9.134738</td>\n",
              "      <td>-6.948176</td>\n",
              "      <td>-43.673691</td>\n",
              "    </tr>\n",
              "    <tr>\n",
              "      <th>3</th>\n",
              "      <td>8.037503</td>\n",
              "      <td>7.536090</td>\n",
              "      <td>4.304222</td>\n",
              "      <td>1.368213</td>\n",
              "      <td>7.655374</td>\n",
              "      <td>5.877472</td>\n",
              "      <td>-10.673538</td>\n",
              "      <td>3.329210</td>\n",
              "      <td>1.672791</td>\n",
              "      <td>-0.114393</td>\n",
              "      <td>-2.519571</td>\n",
              "      <td>-3.016721</td>\n",
              "      <td>-4.771517</td>\n",
              "      <td>6.474865</td>\n",
              "      <td>5.012202</td>\n",
              "      <td>-6.992676</td>\n",
              "      <td>3.322683</td>\n",
              "      <td>6.385760</td>\n",
              "      <td>6.283564</td>\n",
              "      <td>-3.763382</td>\n",
              "      <td>-4.210971</td>\n",
              "      <td>-4.080487</td>\n",
              "      <td>15.072180</td>\n",
              "      <td>-18.402434</td>\n",
              "    </tr>\n",
              "    <tr>\n",
              "      <th>4</th>\n",
              "      <td>-0.643676</td>\n",
              "      <td>-5.098232</td>\n",
              "      <td>6.426570</td>\n",
              "      <td>-2.833146</td>\n",
              "      <td>-4.292058</td>\n",
              "      <td>-3.105426</td>\n",
              "      <td>2.996073</td>\n",
              "      <td>-3.192412</td>\n",
              "      <td>-4.275848</td>\n",
              "      <td>6.586916</td>\n",
              "      <td>1.208168</td>\n",
              "      <td>5.088648</td>\n",
              "      <td>8.835935</td>\n",
              "      <td>-5.743763</td>\n",
              "      <td>0.456918</td>\n",
              "      <td>-6.460829</td>\n",
              "      <td>9.504938</td>\n",
              "      <td>5.275986</td>\n",
              "      <td>2.749596</td>\n",
              "      <td>-6.231896</td>\n",
              "      <td>8.339736</td>\n",
              "      <td>-10.052189</td>\n",
              "      <td>-10.196465</td>\n",
              "      <td>-48.260945</td>\n",
              "    </tr>\n",
              "    <tr>\n",
              "      <th>5</th>\n",
              "      <td>7.688778</td>\n",
              "      <td>6.936452</td>\n",
              "      <td>2.622817</td>\n",
              "      <td>0.924338</td>\n",
              "      <td>7.582977</td>\n",
              "      <td>5.047302</td>\n",
              "      <td>-11.238402</td>\n",
              "      <td>3.530901</td>\n",
              "      <td>2.979700</td>\n",
              "      <td>-1.214419</td>\n",
              "      <td>1.024132</td>\n",
              "      <td>-2.367583</td>\n",
              "      <td>-5.368529</td>\n",
              "      <td>5.219433</td>\n",
              "      <td>3.753264</td>\n",
              "      <td>-5.530650</td>\n",
              "      <td>5.422460</td>\n",
              "      <td>6.861780</td>\n",
              "      <td>4.034253</td>\n",
              "      <td>-5.124204</td>\n",
              "      <td>-4.451557</td>\n",
              "      <td>-4.871067</td>\n",
              "      <td>13.872903</td>\n",
              "      <td>-22.355335</td>\n",
              "    </tr>\n",
              "    <tr>\n",
              "      <th>...</th>\n",
              "      <td>...</td>\n",
              "      <td>...</td>\n",
              "      <td>...</td>\n",
              "      <td>...</td>\n",
              "      <td>...</td>\n",
              "      <td>...</td>\n",
              "      <td>...</td>\n",
              "      <td>...</td>\n",
              "      <td>...</td>\n",
              "      <td>...</td>\n",
              "      <td>...</td>\n",
              "      <td>...</td>\n",
              "      <td>...</td>\n",
              "      <td>...</td>\n",
              "      <td>...</td>\n",
              "      <td>...</td>\n",
              "      <td>...</td>\n",
              "      <td>...</td>\n",
              "      <td>...</td>\n",
              "      <td>...</td>\n",
              "      <td>...</td>\n",
              "      <td>...</td>\n",
              "      <td>...</td>\n",
              "      <td>...</td>\n",
              "    </tr>\n",
              "    <tr>\n",
              "      <th>9995</th>\n",
              "      <td>-0.471211</td>\n",
              "      <td>-3.878440</td>\n",
              "      <td>4.976258</td>\n",
              "      <td>-2.952263</td>\n",
              "      <td>-6.353971</td>\n",
              "      <td>-2.629481</td>\n",
              "      <td>4.286065</td>\n",
              "      <td>-2.341729</td>\n",
              "      <td>-4.328366</td>\n",
              "      <td>8.389839</td>\n",
              "      <td>1.109955</td>\n",
              "      <td>5.005765</td>\n",
              "      <td>9.732920</td>\n",
              "      <td>-4.022717</td>\n",
              "      <td>-1.276452</td>\n",
              "      <td>-7.988043</td>\n",
              "      <td>9.769834</td>\n",
              "      <td>6.570557</td>\n",
              "      <td>4.351780</td>\n",
              "      <td>-4.629683</td>\n",
              "      <td>8.995164</td>\n",
              "      <td>-8.866562</td>\n",
              "      <td>-7.756880</td>\n",
              "      <td>-42.332809</td>\n",
              "    </tr>\n",
              "    <tr>\n",
              "      <th>9996</th>\n",
              "      <td>-10.560733</td>\n",
              "      <td>-6.007623</td>\n",
              "      <td>5.014512</td>\n",
              "      <td>-12.238524</td>\n",
              "      <td>-5.664494</td>\n",
              "      <td>-10.884708</td>\n",
              "      <td>-2.081247</td>\n",
              "      <td>4.273204</td>\n",
              "      <td>-4.103752</td>\n",
              "      <td>1.356016</td>\n",
              "      <td>-10.396789</td>\n",
              "      <td>7.701799</td>\n",
              "      <td>-7.347034</td>\n",
              "      <td>-6.822259</td>\n",
              "      <td>0.699940</td>\n",
              "      <td>6.524154</td>\n",
              "      <td>6.611412</td>\n",
              "      <td>7.812663</td>\n",
              "      <td>3.459987</td>\n",
              "      <td>-2.957703</td>\n",
              "      <td>-1.717942</td>\n",
              "      <td>3.612419</td>\n",
              "      <td>-12.015246</td>\n",
              "      <td>20.062094</td>\n",
              "    </tr>\n",
              "    <tr>\n",
              "      <th>9997</th>\n",
              "      <td>-0.274193</td>\n",
              "      <td>-5.624442</td>\n",
              "      <td>-4.132013</td>\n",
              "      <td>-3.784893</td>\n",
              "      <td>-7.780816</td>\n",
              "      <td>5.146189</td>\n",
              "      <td>4.412614</td>\n",
              "      <td>-9.097709</td>\n",
              "      <td>-5.357306</td>\n",
              "      <td>-3.464257</td>\n",
              "      <td>6.210606</td>\n",
              "      <td>-0.096741</td>\n",
              "      <td>0.517492</td>\n",
              "      <td>-4.799790</td>\n",
              "      <td>1.843947</td>\n",
              "      <td>6.922275</td>\n",
              "      <td>12.290972</td>\n",
              "      <td>-8.767819</td>\n",
              "      <td>0.280662</td>\n",
              "      <td>-7.123301</td>\n",
              "      <td>5.770248</td>\n",
              "      <td>3.728265</td>\n",
              "      <td>-11.248883</td>\n",
              "      <td>20.641323</td>\n",
              "    </tr>\n",
              "    <tr>\n",
              "      <th>9998</th>\n",
              "      <td>-6.004195</td>\n",
              "      <td>6.431052</td>\n",
              "      <td>7.613415</td>\n",
              "      <td>5.964495</td>\n",
              "      <td>-0.585159</td>\n",
              "      <td>-8.024162</td>\n",
              "      <td>-3.890882</td>\n",
              "      <td>-3.630688</td>\n",
              "      <td>-2.221155</td>\n",
              "      <td>-0.537819</td>\n",
              "      <td>-0.668570</td>\n",
              "      <td>-6.532314</td>\n",
              "      <td>7.532070</td>\n",
              "      <td>3.238244</td>\n",
              "      <td>5.107010</td>\n",
              "      <td>-6.098886</td>\n",
              "      <td>2.428073</td>\n",
              "      <td>3.820027</td>\n",
              "      <td>-2.835451</td>\n",
              "      <td>-0.432642</td>\n",
              "      <td>4.799660</td>\n",
              "      <td>2.761357</td>\n",
              "      <td>12.862104</td>\n",
              "      <td>15.806783</td>\n",
              "    </tr>\n",
              "    <tr>\n",
              "      <th>9999</th>\n",
              "      <td>8.774366</td>\n",
              "      <td>-0.737258</td>\n",
              "      <td>5.278708</td>\n",
              "      <td>7.608315</td>\n",
              "      <td>4.155801</td>\n",
              "      <td>6.949827</td>\n",
              "      <td>4.351027</td>\n",
              "      <td>-0.711411</td>\n",
              "      <td>-5.087614</td>\n",
              "      <td>7.552106</td>\n",
              "      <td>-9.178622</td>\n",
              "      <td>-2.162664</td>\n",
              "      <td>-4.793115</td>\n",
              "      <td>1.477523</td>\n",
              "      <td>9.021584</td>\n",
              "      <td>-2.451813</td>\n",
              "      <td>5.766895</td>\n",
              "      <td>8.312502</td>\n",
              "      <td>2.675544</td>\n",
              "      <td>-3.415289</td>\n",
              "      <td>7.336294</td>\n",
              "      <td>0.169953</td>\n",
              "      <td>-1.474516</td>\n",
              "      <td>2.849766</td>\n",
              "    </tr>\n",
              "  </tbody>\n",
              "</table>\n",
              "<p>9999 rows × 24 columns</p>\n",
              "</div>"
            ],
            "text/plain": [
              "             0         1         2   ...         21         22         23\n",
              "1     -1.504680 -4.798100 -9.477033  ...  -9.502662  -9.596201 -45.513311\n",
              "2     -0.724281 -3.474088 -7.808672  ...  -9.134738  -6.948176 -43.673691\n",
              "3      8.037503  7.536090  4.304222  ...  -4.080487  15.072180 -18.402434\n",
              "4     -0.643676 -5.098232  6.426570  ... -10.052189 -10.196465 -48.260945\n",
              "5      7.688778  6.936452  2.622817  ...  -4.871067  13.872903 -22.355335\n",
              "...         ...       ...       ...  ...        ...        ...        ...\n",
              "9995  -0.471211 -3.878440  4.976258  ...  -8.866562  -7.756880 -42.332809\n",
              "9996 -10.560733 -6.007623  5.014512  ...   3.612419 -12.015246  20.062094\n",
              "9997  -0.274193 -5.624442 -4.132013  ...   3.728265 -11.248883  20.641323\n",
              "9998  -6.004195  6.431052  7.613415  ...   2.761357  12.862104  15.806783\n",
              "9999   8.774366 -0.737258  5.278708  ...   0.169953  -1.474516   2.849766\n",
              "\n",
              "[9999 rows x 24 columns]"
            ]
          },
          "metadata": {
            "tags": []
          },
          "execution_count": 12
        }
      ]
    },
    {
      "cell_type": "markdown",
      "metadata": {
        "id": "FNRhX7Tzh_YT"
      },
      "source": [
        "### 2.ทำ clustering แล้วทำ visualize ข้อมูลแบบ 2 มิติ"
      ]
    },
    {
      "cell_type": "code",
      "metadata": {
        "id": "TRyvwiwrhsPD"
      },
      "source": [
        "from sklearn.cluster import KMeans\n",
        "#import function ที่ต้องการใช้ในการทำ K-mean"
      ],
      "execution_count": 13,
      "outputs": []
    },
    {
      "cell_type": "code",
      "metadata": {
        "id": "L2fgGquliG3L"
      },
      "source": [
        "kmeans = KMeans(random_state=2021)\n",
        "#กำหนดค่า k  (ถ้ามีค่า defult ไม่ต้องกำหนดค่า k ก็ได้)\n",
        "#random_state=2021 กำหนดให้เริ่มสุ่มที่จุดเดียวกัน จะได้มีการจัดกลุ่มเหมือนกัน"
      ],
      "execution_count": 14,
      "outputs": []
    },
    {
      "cell_type": "code",
      "metadata": {
        "id": "cgSosAXeiKu-",
        "outputId": "cc800b63-f32b-4226-a8cd-c6ad744087d2",
        "colab": {
          "base_uri": "https://localhost:8080/"
        }
      },
      "source": [
        "kmeans.fit(Data)"
      ],
      "execution_count": 15,
      "outputs": [
        {
          "output_type": "execute_result",
          "data": {
            "text/plain": [
              "KMeans(algorithm='auto', copy_x=True, init='k-means++', max_iter=300,\n",
              "       n_clusters=8, n_init=10, n_jobs=None, precompute_distances='auto',\n",
              "       random_state=2021, tol=0.0001, verbose=0)"
            ]
          },
          "metadata": {
            "tags": []
          },
          "execution_count": 15
        }
      ]
    },
    {
      "cell_type": "code",
      "metadata": {
        "id": "OHoGg2cciUi4",
        "outputId": "93d955ae-dba6-4b6f-eba1-5d5a651ee07f",
        "colab": {
          "base_uri": "https://localhost:8080/"
        }
      },
      "source": [
        "kmeans.cluster_centers_\n",
        "#แสดงจุดที่คำนวณได้"
      ],
      "execution_count": 16,
      "outputs": [
        {
          "output_type": "execute_result",
          "data": {
            "text/plain": [
              "array([[ 8.75148255e+00,  3.31769091e+00,  5.16476459e+00,\n",
              "         3.21028449e+00,  7.06311452e+00,  6.21244919e+00,\n",
              "        -2.97622061e+00,  1.27683308e+00, -1.13630076e+00,\n",
              "         2.94654038e+00, -4.17978379e+00, -2.37989579e+00,\n",
              "        -4.83385771e+00,  3.58550580e+00,  5.96692804e+00,\n",
              "        -5.03215197e+00,  5.64722462e+00,  5.82799454e+00,\n",
              "         4.06651751e+00, -5.29669640e+00,  1.50359699e+00,\n",
              "        -2.61990442e+00,  6.63538182e+00, -1.10995221e+01],\n",
              "       [-2.19357221e+00,  5.86065519e+00, -2.56998095e-01,\n",
              "         3.14996790e+00,  5.51535315e+00,  2.32198318e+00,\n",
              "        -1.52182913e+00,  4.43533112e+00, -4.25709706e+00,\n",
              "         2.39373283e+00, -4.91990332e+00, -1.07339254e+00,\n",
              "         3.98769950e+00, -3.35847945e-01,  1.89566033e+00,\n",
              "        -2.43171061e+00,  3.42558794e+00,  2.76557846e+00,\n",
              "        -2.87133152e+00,  2.84950105e+00,  4.06829614e+00,\n",
              "         1.97885653e+00,  1.17213104e+01,  1.18942827e+01],\n",
              "       [-2.09144815e+00, -3.89009327e+00, -8.73346976e+00,\n",
              "         7.89107520e+00,  8.26321907e+00,  8.96362072e+00,\n",
              "         8.38941559e+00, -9.37702708e+00,  7.63005151e+00,\n",
              "        -9.11314586e+00,  9.63517470e+00,  5.14486493e+00,\n",
              "         7.88368298e+00,  5.06540018e+00,  8.12966237e+00,\n",
              "         4.82920538e+00,  8.12394293e+00, -9.50059883e+00,\n",
              "         3.54157110e+00,  6.93618123e+00,  7.77131397e+00,\n",
              "        -9.12488918e+00, -7.78018654e+00, -4.36244459e+01],\n",
              "       [ 3.83537580e+00, -9.10349653e+00, -9.29199039e+00,\n",
              "        -3.14386005e+00,  6.25167147e+00, -1.46886334e+00,\n",
              "         7.23391189e+00, -4.10194250e+00, -3.87929455e+00,\n",
              "         7.62175407e+00, -2.45055465e+00,  1.21167783e-01,\n",
              "         5.97267495e+00, -3.25634632e+00, -9.96295350e+00,\n",
              "         1.74762022e+00, -3.04856360e+00, -9.75277544e-01,\n",
              "        -4.12228030e+00,  3.10099879e+00, -1.58198720e-01,\n",
              "         6.30643879e+00, -1.82069931e+01,  3.35321940e+01],\n",
              "       [-4.09451092e+00, -4.14518173e+00,  9.17625796e-01,\n",
              "        -7.06969817e+00, -6.99889475e+00, -1.95847923e+00,\n",
              "         3.42184835e-01, -3.34106960e+00, -4.58141237e+00,\n",
              "        -1.47010054e+00, -1.38929862e+00,  3.75924133e+00,\n",
              "        -4.02088057e+00, -5.56449186e+00,  1.00130281e+00,\n",
              "         7.46084083e+00,  7.50549804e+00, -1.24369307e-03,\n",
              "         2.83671621e+00, -5.69429488e+00,  2.51024545e+00,\n",
              "         3.52218439e+00, -8.29036347e+00,  1.96109220e+01],\n",
              "       [-1.26298590e-01, -4.45356925e+00,  6.18106406e+00,\n",
              "        -3.28075122e+00, -6.10043311e+00, -3.07316917e+00,\n",
              "         3.42767303e+00, -4.27443303e+00, -4.76323507e+00,\n",
              "         7.57780736e+00,  8.27147178e-01,  4.88254734e+00,\n",
              "         7.95219494e+00, -4.43803534e+00,  6.37000613e-01,\n",
              "        -7.37033219e+00,  9.26754795e+00,  6.17476414e+00,\n",
              "         2.94939269e+00, -5.99386836e+00,  9.35719184e+00,\n",
              "        -9.29493809e+00, -8.90713850e+00, -4.44746904e+01],\n",
              "       [ 3.82693896e+00, -9.28535603e-01, -2.11003301e-01,\n",
              "         4.08958162e+00, -3.95557046e+00, -3.26710657e+00,\n",
              "         7.50606468e+00, -4.67518045e+00, -1.56887572e+00,\n",
              "        -9.22876401e+00,  6.43507474e-01, -8.77663136e-01,\n",
              "         5.27382699e+00, -3.07645049e+00, -3.95524914e+00,\n",
              "        -7.72105404e+00,  1.90063859e+00,  1.96888525e+00,\n",
              "         5.36098621e-01,  2.87385948e+00, -3.92624950e+00,\n",
              "        -6.24862283e-02, -1.85707121e+00,  1.68756886e+00],\n",
              "       [ 7.89881332e+00,  8.50743884e+00,  2.31500544e+00,\n",
              "        -7.15650098e+00, -7.30711162e+00, -2.67819337e+00,\n",
              "        -7.68182522e+00,  3.01184560e-01, -4.82108908e+00,\n",
              "        -7.78228381e+00, -6.25847244e+00, -3.52475371e+00,\n",
              "         3.32105145e+00, -3.76013676e+00,  4.84429050e-01,\n",
              "        -3.36615369e+00, -8.27683949e+00, -8.31419021e+00,\n",
              "        -4.95976860e+00, -5.60410431e+00, -8.73427774e+00,\n",
              "         5.56938616e+00,  1.70148777e+01,  2.98469308e+01]])"
            ]
          },
          "metadata": {
            "tags": []
          },
          "execution_count": 16
        }
      ]
    },
    {
      "cell_type": "code",
      "metadata": {
        "id": "_58JWruHiXZ3",
        "outputId": "1765d5f6-7c11-4d05-8c19-ae266d40909d",
        "colab": {
          "base_uri": "https://localhost:8080/"
        }
      },
      "source": [
        "y = kmeans.predict(Data)\n",
        "y\n",
        "#ทดสอบการจัดกลุ่มของ Data"
      ],
      "execution_count": 17,
      "outputs": [
        {
          "output_type": "execute_result",
          "data": {
            "text/plain": [
              "array([4, 2, 2, ..., 4, 1, 0], dtype=int32)"
            ]
          },
          "metadata": {
            "tags": []
          },
          "execution_count": 17
        }
      ]
    },
    {
      "cell_type": "code",
      "metadata": {
        "id": "0KAAylagiaa3"
      },
      "source": [
        "from sklearn.decomposition import PCA"
      ],
      "execution_count": 18,
      "outputs": []
    },
    {
      "cell_type": "code",
      "metadata": {
        "id": "CTU5_0TXiddQ"
      },
      "source": [
        "pca = PCA(n_components=2)"
      ],
      "execution_count": 19,
      "outputs": []
    },
    {
      "cell_type": "code",
      "metadata": {
        "id": "hb06u1GGiqlH"
      },
      "source": [
        "new_pca = pca.fit_transform(newdata)"
      ],
      "execution_count": 20,
      "outputs": []
    },
    {
      "cell_type": "code",
      "metadata": {
        "id": "xz0MLkXSiszc"
      },
      "source": [
        "import matplotlib.pyplot as plt"
      ],
      "execution_count": 21,
      "outputs": []
    },
    {
      "cell_type": "code",
      "metadata": {
        "id": "5tpgCSQliw8i",
        "outputId": "052d9f0f-1daa-49de-868f-714880164af8",
        "colab": {
          "base_uri": "https://localhost:8080/",
          "height": 282
        }
      },
      "source": [
        "kmeans = KMeans(random_state=2021)\n",
        "kmeans.fit(newdata)\n",
        "y = kmeans.predict(newdata)\n",
        "plt.scatter(new_pca[:,0],new_pca[:,1],c=y)"
      ],
      "execution_count": 22,
      "outputs": [
        {
          "output_type": "execute_result",
          "data": {
            "text/plain": [
              "<matplotlib.collections.PathCollection at 0x7f73e82a5650>"
            ]
          },
          "metadata": {
            "tags": []
          },
          "execution_count": 22
        },
        {
          "output_type": "display_data",
          "data": {
            "image/png": "[encoded data removed]",
            "text/plain": [
              "<Figure size 432x288 with 1 Axes>"
            ]
          },
          "metadata": {
            "tags": [],
            "needs_background": "light"
          }
        }
      ]
    },
    {
      "cell_type": "markdown",
      "metadata": {
        "id": "kgQYIYPZi4kE"
      },
      "source": [
        "หาค่า k ที่เหมาะสมของ data ด้วยวิธี \" The elbow method \""
      ]
    },
    {
      "cell_type": "code",
      "metadata": {
        "id": "_kHgBm5kizkx",
        "outputId": "e5328327-41fb-4860-bc1e-015606d5ad02",
        "colab": {
          "base_uri": "https://localhost:8080/"
        }
      },
      "source": [
        "kmeans.inertia_\n",
        "#คำนวนค่า SSE"
      ],
      "execution_count": 24,
      "outputs": [
        {
          "output_type": "execute_result",
          "data": {
            "text/plain": [
              "3458078.593224128"
            ]
          },
          "metadata": {
            "tags": []
          },
          "execution_count": 24
        }
      ]
    },
    {
      "cell_type": "code",
      "metadata": {
        "id": "EKgg7bdri3bc"
      },
      "source": [
        "SSE = list()\n",
        "for k in [1,2,3,4,5,6,7,8]:\n",
        "    kmeans = KMeans(n_clusters = k , random_state = 2021)\n",
        "    XX = kmeans.fit(Data)\n",
        "    SSE.append(kmeans.inertia_)"
      ],
      "execution_count": 25,
      "outputs": []
    },
    {
      "cell_type": "code",
      "metadata": {
        "id": "lbgduQsmi_Pf",
        "outputId": "123150d3-1c16-4793-c3c2-1e544b4f73ac",
        "colab": {
          "base_uri": "https://localhost:8080/"
        }
      },
      "source": [
        "SSE"
      ],
      "execution_count": 26,
      "outputs": [
        {
          "output_type": "execute_result",
          "data": {
            "text/plain": [
              "[13996402.01220335,\n",
              " 9375315.324471194,\n",
              " 7668905.442202804,\n",
              " 6546208.95669611,\n",
              " 5465351.337933444,\n",
              " 4728825.967559841,\n",
              " 4058229.078380168,\n",
              " 3303806.5447469153]"
            ]
          },
          "metadata": {
            "tags": []
          },
          "execution_count": 26
        }
      ]
    },
    {
      "cell_type": "code",
      "metadata": {
        "id": "z4oiJlgmjCtb",
        "outputId": "7b352d21-d499-44de-a96b-9133ee9f8e59",
        "colab": {
          "base_uri": "https://localhost:8080/",
          "height": 290
        }
      },
      "source": [
        "plt.plot([1,2,3,4,5,6,7,8],SSE,'o-b')\n",
        "plt.xlabel('k')\n",
        "plt.ylabel('SSE');\n",
        "#นำค่า SSE ที่ได้มา plot กราฟเพื่อดูว่ามี k กี่กลุ่ม"
      ],
      "execution_count": 33,
      "outputs": [
        {
          "output_type": "display_data",
          "data": {
            "image/png": "[encoded data removed]",
            "text/plain": [
              "<Figure size 432x288 with 1 Axes>"
            ]
          },
          "metadata": {
            "tags": [],
            "needs_background": "light"
          }
        }
      ]
    },
    {
      "cell_type": "markdown",
      "metadata": {
        "id": "VwjEMVU0lGfC"
      },
      "source": [
        "หาค่า k ด้วยวิธี \" The silhouette coefficient\""
      ]
    },
    {
      "cell_type": "code",
      "metadata": {
        "id": "TX_TVn4ujGb_"
      },
      "source": [
        "from sklearn import metrics\n",
        "#import function metrics มาใช้"
      ],
      "execution_count": 28,
      "outputs": []
    },
    {
      "cell_type": "code",
      "metadata": {
        "id": "QBROlZHDlJkT"
      },
      "source": [
        "SilH = list()\n",
        "for k in [2,3,4,5,6,7,8]:\n",
        "    kmeans = KMeans(n_clusters = k , random_state = 2021)\n",
        "    kmeans.fit(Data)\n",
        "    score = metrics.silhouette_score(Data,kmeans.labels_)\n",
        "    SilH.append(score)"
      ],
      "execution_count": 29,
      "outputs": []
    },
    {
      "cell_type": "code",
      "metadata": {
        "id": "vxtPZT8qlLsa",
        "outputId": "45327964-c573-4024-889d-f26cc353b012",
        "colab": {
          "base_uri": "https://localhost:8080/",
          "height": 279
        }
      },
      "source": [
        "plt.plot([2,3,4,5,6,7,8],SilH,'o-c')\n",
        "plt.xlabel('k')\n",
        "plt.ylabel('Silhouette Score');"
      ],
      "execution_count": 32,
      "outputs": [
        {
          "output_type": "display_data",
          "data": {
            "image/png": "[encoded data removed]",
            "text/plain": [
              "<Figure size 432x288 with 1 Axes>"
            ]
          },
          "metadata": {
            "tags": [],
            "needs_background": "light"
          }
        }
      ]
    },
    {
      "cell_type": "code",
      "metadata": {
        "id": "e-bV0ElPlQMB",
        "outputId": "bf6c5946-d1a9-46eb-bf97-c1cf3bf5e515",
        "colab": {
          "base_uri": "https://localhost:8080/",
          "height": 282
        }
      },
      "source": [
        "kmeans = KMeans(n_clusters= 3,random_state=2021)\n",
        "kmeans.fit(newdata)\n",
        "y = kmeans.predict(newdata)\n",
        "plt.scatter(new_pca[:,0],new_pca[:,1],c=y,alpha=0.5)"
      ],
      "execution_count": 34,
      "outputs": [
        {
          "output_type": "execute_result",
          "data": {
            "text/plain": [
              "<matplotlib.collections.PathCollection at 0x7f73d90ad750>"
            ]
          },
          "metadata": {
            "tags": []
          },
          "execution_count": 34
        },
        {
          "output_type": "display_data",
          "data": {
            "image/png": "[encoded data removed]",
            "text/plain": [
              "<Figure size 432x288 with 1 Axes>"
            ]
          },
          "metadata": {
            "tags": [],
            "needs_background": "light"
          }
        }
      ]
    },
    {
      "cell_type": "markdown",
      "metadata": {
        "id": "9vZOiYd9mtvF"
      },
      "source": [
        "จากกราฟจะบอกได้ว่ามี k ทั้งหมด 3 กลุ่ม และมีข้อมูลบางส่วนที่ทับซ้อนก่อน"
      ]
    },
    {
      "cell_type": "markdown",
      "metadata": {
        "id": "LHhEao16nZuG"
      },
      "source": [
        "### 3.ลด Dimension ของข้อมูลเหลือ 2 มิติ แล้วทำ clustering แล้ว visualize ข้อมูลแบบ 2 มิติ"
      ]
    },
    {
      "cell_type": "markdown",
      "metadata": {
        "id": "93Cl3QyRng5Z"
      },
      "source": [
        "ใช้วิธี MDS Multidimensional Scaling"
      ]
    },
    {
      "cell_type": "code",
      "metadata": {
        "id": "PVCg48Hymiv8"
      },
      "source": [
        "from sklearn.manifold import MDS"
      ],
      "execution_count": 36,
      "outputs": []
    },
    {
      "cell_type": "code",
      "metadata": {
        "id": "TM-0b4NZnpsi"
      },
      "source": [
        "mds = MDS(n_components=2)"
      ],
      "execution_count": 40,
      "outputs": []
    },
    {
      "cell_type": "code",
      "metadata": {
        "id": "lTkml7E1oS9C"
      },
      "source": [
        ""
      ],
      "execution_count": null,
      "outputs": []
    }
  ]
}