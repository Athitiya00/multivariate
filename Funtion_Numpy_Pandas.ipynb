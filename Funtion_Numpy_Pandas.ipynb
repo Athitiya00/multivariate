{
  "nbformat": 4,
  "nbformat_minor": 0,
  "metadata": {
    "colab": {
      "name": "Funtion_Numpy_Pandas.ipynb",
      "provenance": [],
      "authorship_tag": "ABX9TyONnHmJHGM2GGmzP0Opok6Z",
      "include_colab_link": true
    },
    "kernelspec": {
      "name": "python3",
      "display_name": "Python 3"
    }
  },
  "cells": [
    {
      "cell_type": "markdown",
      "metadata": {
        "id": "view-in-github",
        "colab_type": "text"
      },
      "source": [
        "<a href=\"https://colab.research.google.com/github/Athitiya00/multivariate/blob/main/Funtion_Numpy_Pandas.ipynb\" target=\"_parent\"><img src=\"https://colab.research.google.com/assets/colab-badge.svg\" alt=\"Open In Colab\"/></a>"
      ]
    },
    {
      "cell_type": "markdown",
      "metadata": {
        "id": "fDNPRHnKSgJ0"
      },
      "source": [
        "#Function"
      ]
    },
    {
      "cell_type": "markdown",
      "metadata": {
        "id": "Tw7iebQNGodc"
      },
      "source": [
        "```python\r\n",
        "def function_name(_Input_) :\r\n",
        "    do_something with _Input_ to get _Output_ \r\n",
        "    return  _Output_\r\n",
        " ```"
      ]
    },
    {
      "cell_type": "markdown",
      "metadata": {
        "id": "bVOvzsX9S6Io"
      },
      "source": [
        "funcion มีส่วนสำคัญทั้งหมด 4 ส่วน\r\n",
        "\r\n",
        "1. บอก python ว่าเราจะเขียนฟังก์ชั่น ชื่ออะไร def function_name(): (ขาดไม่ได้)\r\n",
        "2. กำหนดตัวแปรที่จะเป็น input (ขาดได้)\r\n",
        "3. ส่วนประมวลผล do_something whth input to get Output (ขาดไม่ได้)\r\n",
        "4. ส่วน output return output (ขาดได้)\r\n",
        "\r\n",
        "เราใช้ เว้นวรรค (indent) เพื่อบอกขอบเขตของ code"
      ]
    },
    {
      "cell_type": "markdown",
      "metadata": {
        "id": "VeYXwkwmGsNa"
      },
      "source": [
        "##สร้างฟังก์ชั่น"
      ]
    },
    {
      "cell_type": "code",
      "metadata": {
        "id": "WXWfCH74SM9u",
        "outputId": "e7165f6b-7fad-46c0-d75d-d08386a57bc9",
        "colab": {
          "base_uri": "https://localhost:8080/"
        }
      },
      "source": [
        "def print_name(name,surname,ID) :\r\n",
        "     st = f'ชื่อ {name} นามสกุล {surname} ID {ID}'\r\n",
        "     return st\r\n",
        "print('outside function')"
      ],
      "execution_count": 26,
      "outputs": [
        {
          "output_type": "stream",
          "text": [
            "outside function\n"
          ],
          "name": "stdout"
        }
      ]
    },
    {
      "cell_type": "markdown",
      "metadata": {
        "id": "yRehSsGiW1jr"
      },
      "source": [
        "##การเรียกใช้ฟังก์ชั่น"
      ]
    },
    {
      "cell_type": "code",
      "metadata": {
        "colab": {
          "base_uri": "https://localhost:8080/",
          "height": 35
        },
        "id": "at6Lacm_W9ij",
        "outputId": "1cffc8ee-6017-419e-9198-950da6fcaef0"
      },
      "source": [
        "print_name('อาธิติยา', 'ธรรมวงษา', '623021058-0')"
      ],
      "execution_count": 27,
      "outputs": [
        {
          "output_type": "execute_result",
          "data": {
            "application/vnd.google.colaboratory.intrinsic+json": {
              "type": "string"
            },
            "text/plain": [
              "'ชื่อ อาธิติยา นามสกุล ธรรมวงษา ID 623021058-0'"
            ]
          },
          "metadata": {
            "tags": []
          },
          "execution_count": 27
        }
      ]
    },
    {
      "cell_type": "code",
      "metadata": {
        "colab": {
          "base_uri": "https://localhost:8080/"
        },
        "id": "oMPQC8AWYaoA",
        "outputId": "5edfb5fe-3286-486f-cde0-1915defc42c3"
      },
      "source": [
        "output_string = print_name('อาธิติยา', 'ธรรมวงษา', '623021058-0')\r\n",
        "print(output_string)"
      ],
      "execution_count": 28,
      "outputs": [
        {
          "output_type": "stream",
          "text": [
            "ชื่อ อาธิติยา นามสกุล ธรรมวงษา ID 623021058-0\n"
          ],
          "name": "stdout"
        }
      ]
    },
    {
      "cell_type": "markdown",
      "metadata": {
        "id": "j0vbl_SFZptB"
      },
      "source": [
        "ฟังก์ชั่นไม่จำเป็นต้องมี Output"
      ]
    },
    {
      "cell_type": "code",
      "metadata": {
        "id": "y4dtEnXSZb-1"
      },
      "source": [
        "def print_name2(surname,ID,name) :\r\n",
        "     st = f'ชื่อ {name} นามสกุล {surname} รหัส {ID}'\r\n",
        "     print(st)"
      ],
      "execution_count": 29,
      "outputs": []
    },
    {
      "cell_type": "code",
      "metadata": {
        "colab": {
          "base_uri": "https://localhost:8080/"
        },
        "id": "t18nvcakbcVj",
        "outputId": "0939aacc-c1bc-456f-9d1e-48575354fa59"
      },
      "source": [
        "print_name2('อาธิติยา', 'ธรรมวงษา', '623021058-0')"
      ],
      "execution_count": 30,
      "outputs": [
        {
          "output_type": "stream",
          "text": [
            "ชื่อ 623021058-0 นามสกุล อาธิติยา รหัส ธรรมวงษา\n"
          ],
          "name": "stdout"
        }
      ]
    },
    {
      "cell_type": "code",
      "metadata": {
        "id": "0k-UekxmbwBq",
        "outputId": "93d4b750-31c2-4594-a001-f7edb825be41",
        "colab": {
          "base_uri": "https://localhost:8080/"
        }
      },
      "source": [
        "op2 = print_name2('อาธิติยา', 'ธรรมวงษา', '623021058-0')"
      ],
      "execution_count": 31,
      "outputs": [
        {
          "output_type": "stream",
          "text": [
            "ชื่อ 623021058-0 นามสกุล อาธิติยา รหัส ธรรมวงษา\n"
          ],
          "name": "stdout"
        }
      ]
    },
    {
      "cell_type": "code",
      "metadata": {
        "id": "98YzVM0sCOkb",
        "outputId": "f81d29fe-c9b6-42ad-8fe7-0ef51e381b7c",
        "colab": {
          "base_uri": "https://localhost:8080/"
        }
      },
      "source": [
        "print(op2)"
      ],
      "execution_count": 32,
      "outputs": [
        {
          "output_type": "stream",
          "text": [
            "None\n"
          ],
          "name": "stdout"
        }
      ]
    },
    {
      "cell_type": "markdown",
      "metadata": {
        "id": "YeudPvJICpc4"
      },
      "source": [
        "ฟังก์ชั่นไม่จำเป็นต้องมี input"
      ]
    },
    {
      "cell_type": "code",
      "metadata": {
        "id": "2v1HXgsyCmKP"
      },
      "source": [
        "def Pi():\r\n",
        "     return 3.14159265359"
      ],
      "execution_count": 33,
      "outputs": []
    },
    {
      "cell_type": "code",
      "metadata": {
        "id": "B-lvvXKrCWEE",
        "outputId": "ab472207-a2d8-4eb2-bcf0-5f7d8fa5ad58",
        "colab": {
          "base_uri": "https://localhost:8080/"
        }
      },
      "source": [
        "#คำนวณพื้นที่วงกลมที่มีขนาดเส้นผ่านศูนย์กลางเท่ากับ 3\r\n",
        "Pi()*(1.5**2)"
      ],
      "execution_count": 34,
      "outputs": [
        {
          "output_type": "execute_result",
          "data": {
            "text/plain": [
              "7.0685834705775"
            ]
          },
          "metadata": {
            "tags": []
          },
          "execution_count": 34
        }
      ]
    },
    {
      "cell_type": "code",
      "metadata": {
        "id": "7eU_lHX2DrE5"
      },
      "source": [
        "def print_my_name():\r\n",
        "     print('อาธิติยา ธรรมวงษา ID 623021058-0')"
      ],
      "execution_count": 35,
      "outputs": []
    },
    {
      "cell_type": "code",
      "metadata": {
        "id": "OxR1iNBfETt1",
        "outputId": "07e649f0-d5d8-4e09-b23a-3105ecb85661",
        "colab": {
          "base_uri": "https://localhost:8080/"
        }
      },
      "source": [
        "print_my_name()"
      ],
      "execution_count": 36,
      "outputs": [
        {
          "output_type": "stream",
          "text": [
            "อาธิติยา ธรรมวงษา ID 623021058-0\n"
          ],
          "name": "stdout"
        }
      ]
    },
    {
      "cell_type": "markdown",
      "metadata": {
        "id": "4ceDQgXRFNcB"
      },
      "source": [
        "**1.input ของ function ใน python มีสองแบบ input ที่จำเป็นต้องใส่ กับ input ที่ไม่จำเป็นต้องใส (มีค่า default)**\r\n",
        "\r\n",
        "**2.เราต้องเรียง input ที่จำเป็นต้องใส่ขึ้นก่อน**"
      ]
    },
    {
      "cell_type": "code",
      "metadata": {
        "id": "hpK8KXfBEZ_B"
      },
      "source": [
        "def print_2lines_default(name, surname, ID, grade='F'):\r\n",
        "    st = f'ชื่อ {name} นามสกุล {surname} รหัส {ID}'\r\n",
        "    print(st)\r\n",
        "    st2 = f'เกรดวิชา Multivariate >>> {grade}'\r\n",
        "    print(st2)"
      ],
      "execution_count": 37,
      "outputs": []
    },
    {
      "cell_type": "code",
      "metadata": {
        "id": "PZvkRQVvFSJN",
        "outputId": "3f8278a9-5d2e-4430-f9cf-fd2575d727a4",
        "colab": {
          "base_uri": "https://localhost:8080/"
        }
      },
      "source": [
        "print_2lines_default('อาธิติยา', 'ธรรมวงษา', '623021058-0')"
      ],
      "execution_count": 38,
      "outputs": [
        {
          "output_type": "stream",
          "text": [
            "ชื่อ อาธิติยา นามสกุล ธรรมวงษา รหัส 623021058-0\n",
            "เกรดวิชา Multivariate >>> F\n"
          ],
          "name": "stdout"
        }
      ]
    },
    {
      "cell_type": "code",
      "metadata": {
        "id": "sRhcD0cfFb52",
        "outputId": "d90e231a-5339-45e9-9369-0a78a2ad9f85",
        "colab": {
          "base_uri": "https://localhost:8080/"
        }
      },
      "source": [
        "print_2lines_default('อาธิติยา', 'ธรรมวงษา', '623021058-0','A')"
      ],
      "execution_count": 39,
      "outputs": [
        {
          "output_type": "stream",
          "text": [
            "ชื่อ อาธิติยา นามสกุล ธรรมวงษา รหัส 623021058-0\n",
            "เกรดวิชา Multivariate >>> A\n"
          ],
          "name": "stdout"
        }
      ]
    },
    {
      "cell_type": "code",
      "metadata": {
        "id": "6zZBRWjCFifp",
        "outputId": "ea1cf7c3-de91-47b5-db2f-dc6c1e30e34c",
        "colab": {
          "base_uri": "https://localhost:8080/"
        }
      },
      "source": [
        "print_name2(name='อาธิติยา', surname='ธรรมวงษา', ID='623021058-0')"
      ],
      "execution_count": 40,
      "outputs": [
        {
          "output_type": "stream",
          "text": [
            "ชื่อ อาธิติยา นามสกุล ธรรมวงษา รหัส 623021058-0\n"
          ],
          "name": "stdout"
        }
      ]
    },
    {
      "cell_type": "markdown",
      "metadata": {
        "id": "bZCf0wlIGDGq"
      },
      "source": [
        "## HW3 ให้เขียน function คำนวณจำนวนวินาทีจากเวลาต่อไปนี้\r\n",
        "\r\n",
        "'14-15-31'\r\n",
        "\r\n",
        "'13-00-01'\r\n",
        "\r\n",
        "'05-49-44'\r\n",
        "\r\n",
        "'00-00-16'\r\n",
        "\r\n",
        "และ print ให้สวยงาม"
      ]
    }
  ]
}