{
  "nbformat": 4,
  "nbformat_minor": 0,
  "metadata": {
    "colab": {
      "name": "Funtion_Numpy_Pandas.ipynb",
      "provenance": [],
      "authorship_tag": "ABX9TyNA3PZu5ooEV7YTbYwD5O7H",
      "include_colab_link": true
    },
    "kernelspec": {
      "name": "python3",
      "display_name": "Python 3"
    }
  },
  "cells": [
    {
      "cell_type": "markdown",
      "metadata": {
        "id": "view-in-github",
        "colab_type": "text"
      },
      "source": [
        "<a href=\"https://colab.research.google.com/github/Athitiya00/multivariate/blob/main/Funtion_Numpy_Pandas.ipynb\" target=\"_parent\"><img src=\"https://colab.research.google.com/assets/colab-badge.svg\" alt=\"Open In Colab\"/></a>"
      ]
    },
    {
      "cell_type": "markdown",
      "metadata": {
        "id": "fDNPRHnKSgJ0"
      },
      "source": [
        "#Function"
      ]
    },
    {
      "cell_type": "markdown",
      "metadata": {
        "id": "Tw7iebQNGodc"
      },
      "source": [
        "```python\r\n",
        "def function_name(_Input_) :\r\n",
        "    do_something with _Input_ to get _Output_ \r\n",
        "    return  _Output_\r\n",
        " ```"
      ]
    },
    {
      "cell_type": "markdown",
      "metadata": {
        "id": "bVOvzsX9S6Io"
      },
      "source": [
        "funcion มีส่วนสำคัญทั้งหมด 4 ส่วน\r\n",
        "\r\n",
        "1. บอก python ว่าเราจะเขียนฟังก์ชั่น ชื่ออะไร def function_name(): (ขาดไม่ได้)\r\n",
        "2. กำหนดตัวแปรที่จะเป็น input (ขาดได้)\r\n",
        "3. ส่วนประมวลผล do_something whth input to get Output (ขาดไม่ได้)\r\n",
        "4. ส่วน output return output (ขาดได้)\r\n",
        "\r\n",
        "เราใช้ เว้นวรรค (indent) เพื่อบอกขอบเขตของ code"
      ]
    },
    {
      "cell_type": "markdown",
      "metadata": {
        "id": "VeYXwkwmGsNa"
      },
      "source": [
        "##สร้างฟังก์ชั่น"
      ]
    },
    {
      "cell_type": "code",
      "metadata": {
        "id": "WXWfCH74SM9u",
        "colab": {
          "base_uri": "https://localhost:8080/"
        },
        "outputId": "e7165f6b-7fad-46c0-d75d-d08386a57bc9"
      },
      "source": [
        "def print_name(name,surname,ID) :\r\n",
        "     st = f'ชื่อ {name} นามสกุล {surname} ID {ID}'\r\n",
        "     return st\r\n",
        "print('outside function')"
      ],
      "execution_count": null,
      "outputs": [
        {
          "output_type": "stream",
          "text": [
            "outside function\n"
          ],
          "name": "stdout"
        }
      ]
    },
    {
      "cell_type": "markdown",
      "metadata": {
        "id": "yRehSsGiW1jr"
      },
      "source": [
        "##การเรียกใช้ฟังก์ชั่น"
      ]
    },
    {
      "cell_type": "code",
      "metadata": {
        "colab": {
          "base_uri": "https://localhost:8080/",
          "height": 35
        },
        "id": "at6Lacm_W9ij",
        "outputId": "1cffc8ee-6017-419e-9198-950da6fcaef0"
      },
      "source": [
        "print_name('อาธิติยา', 'ธรรมวงษา', '623021058-0')"
      ],
      "execution_count": null,
      "outputs": [
        {
          "output_type": "execute_result",
          "data": {
            "application/vnd.google.colaboratory.intrinsic+json": {
              "type": "string"
            },
            "text/plain": [
              "'ชื่อ อาธิติยา นามสกุล ธรรมวงษา ID 623021058-0'"
            ]
          },
          "metadata": {
            "tags": []
          },
          "execution_count": 27
        }
      ]
    },
    {
      "cell_type": "code",
      "metadata": {
        "colab": {
          "base_uri": "https://localhost:8080/"
        },
        "id": "oMPQC8AWYaoA",
        "outputId": "5edfb5fe-3286-486f-cde0-1915defc42c3"
      },
      "source": [
        "output_string = print_name('อาธิติยา', 'ธรรมวงษา', '623021058-0')\r\n",
        "print(output_string)"
      ],
      "execution_count": null,
      "outputs": [
        {
          "output_type": "stream",
          "text": [
            "ชื่อ อาธิติยา นามสกุล ธรรมวงษา ID 623021058-0\n"
          ],
          "name": "stdout"
        }
      ]
    },
    {
      "cell_type": "markdown",
      "metadata": {
        "id": "j0vbl_SFZptB"
      },
      "source": [
        "ฟังก์ชั่นไม่จำเป็นต้องมี Output"
      ]
    },
    {
      "cell_type": "code",
      "metadata": {
        "id": "y4dtEnXSZb-1"
      },
      "source": [
        "def print_name2(surname,ID,name) :\r\n",
        "     st = f'ชื่อ {name} นามสกุล {surname} รหัส {ID}'\r\n",
        "     print(st)"
      ],
      "execution_count": null,
      "outputs": []
    },
    {
      "cell_type": "code",
      "metadata": {
        "colab": {
          "base_uri": "https://localhost:8080/"
        },
        "id": "t18nvcakbcVj",
        "outputId": "0939aacc-c1bc-456f-9d1e-48575354fa59"
      },
      "source": [
        "print_name2('อาธิติยา', 'ธรรมวงษา', '623021058-0')"
      ],
      "execution_count": null,
      "outputs": [
        {
          "output_type": "stream",
          "text": [
            "ชื่อ 623021058-0 นามสกุล อาธิติยา รหัส ธรรมวงษา\n"
          ],
          "name": "stdout"
        }
      ]
    },
    {
      "cell_type": "code",
      "metadata": {
        "id": "0k-UekxmbwBq",
        "colab": {
          "base_uri": "https://localhost:8080/"
        },
        "outputId": "93d4b750-31c2-4594-a001-f7edb825be41"
      },
      "source": [
        "op2 = print_name2('อาธิติยา', 'ธรรมวงษา', '623021058-0')"
      ],
      "execution_count": null,
      "outputs": [
        {
          "output_type": "stream",
          "text": [
            "ชื่อ 623021058-0 นามสกุล อาธิติยา รหัส ธรรมวงษา\n"
          ],
          "name": "stdout"
        }
      ]
    },
    {
      "cell_type": "code",
      "metadata": {
        "colab": {
          "base_uri": "https://localhost:8080/"
        },
        "id": "98YzVM0sCOkb",
        "outputId": "f81d29fe-c9b6-42ad-8fe7-0ef51e381b7c"
      },
      "source": [
        "print(op2)"
      ],
      "execution_count": null,
      "outputs": [
        {
          "output_type": "stream",
          "text": [
            "None\n"
          ],
          "name": "stdout"
        }
      ]
    },
    {
      "cell_type": "markdown",
      "metadata": {
        "id": "YeudPvJICpc4"
      },
      "source": [
        "ฟังก์ชั่นไม่จำเป็นต้องมี input"
      ]
    },
    {
      "cell_type": "code",
      "metadata": {
        "id": "2v1HXgsyCmKP"
      },
      "source": [
        "def Pi():\r\n",
        "     return 3.14159265359"
      ],
      "execution_count": null,
      "outputs": []
    },
    {
      "cell_type": "code",
      "metadata": {
        "colab": {
          "base_uri": "https://localhost:8080/"
        },
        "id": "B-lvvXKrCWEE",
        "outputId": "ab472207-a2d8-4eb2-bcf0-5f7d8fa5ad58"
      },
      "source": [
        "#คำนวณพื้นที่วงกลมที่มีขนาดเส้นผ่านศูนย์กลางเท่ากับ 3\r\n",
        "Pi()*(1.5**2)"
      ],
      "execution_count": null,
      "outputs": [
        {
          "output_type": "execute_result",
          "data": {
            "text/plain": [
              "7.0685834705775"
            ]
          },
          "metadata": {
            "tags": []
          },
          "execution_count": 34
        }
      ]
    },
    {
      "cell_type": "code",
      "metadata": {
        "id": "7eU_lHX2DrE5"
      },
      "source": [
        "def print_my_name():\r\n",
        "     print('อาธิติยา ธรรมวงษา ID 623021058-0')"
      ],
      "execution_count": null,
      "outputs": []
    },
    {
      "cell_type": "code",
      "metadata": {
        "colab": {
          "base_uri": "https://localhost:8080/"
        },
        "id": "OxR1iNBfETt1",
        "outputId": "07e649f0-d5d8-4e09-b23a-3105ecb85661"
      },
      "source": [
        "print_my_name()"
      ],
      "execution_count": null,
      "outputs": [
        {
          "output_type": "stream",
          "text": [
            "อาธิติยา ธรรมวงษา ID 623021058-0\n"
          ],
          "name": "stdout"
        }
      ]
    },
    {
      "cell_type": "markdown",
      "metadata": {
        "id": "4ceDQgXRFNcB"
      },
      "source": [
        "**1.input ของ function ใน python มีสองแบบ input ที่จำเป็นต้องใส่ กับ input ที่ไม่จำเป็นต้องใส (มีค่า default)**\r\n",
        "\r\n",
        "**2.เราต้องเรียง input ที่จำเป็นต้องใส่ขึ้นก่อน**"
      ]
    },
    {
      "cell_type": "code",
      "metadata": {
        "id": "hpK8KXfBEZ_B"
      },
      "source": [
        "def print_2lines_default(name, surname, ID, grade='F'):\r\n",
        "    st = f'ชื่อ {name} นามสกุล {surname} รหัส {ID}'\r\n",
        "    print(st)\r\n",
        "    st2 = f'เกรดวิชา Multivariate >>> {grade}'\r\n",
        "    print(st2)"
      ],
      "execution_count": null,
      "outputs": []
    },
    {
      "cell_type": "code",
      "metadata": {
        "colab": {
          "base_uri": "https://localhost:8080/"
        },
        "id": "PZvkRQVvFSJN",
        "outputId": "3f8278a9-5d2e-4430-f9cf-fd2575d727a4"
      },
      "source": [
        "print_2lines_default('อาธิติยา', 'ธรรมวงษา', '623021058-0')"
      ],
      "execution_count": null,
      "outputs": [
        {
          "output_type": "stream",
          "text": [
            "ชื่อ อาธิติยา นามสกุล ธรรมวงษา รหัส 623021058-0\n",
            "เกรดวิชา Multivariate >>> F\n"
          ],
          "name": "stdout"
        }
      ]
    },
    {
      "cell_type": "code",
      "metadata": {
        "colab": {
          "base_uri": "https://localhost:8080/"
        },
        "id": "sRhcD0cfFb52",
        "outputId": "d90e231a-5339-45e9-9369-0a78a2ad9f85"
      },
      "source": [
        "print_2lines_default('อาธิติยา', 'ธรรมวงษา', '623021058-0','A')"
      ],
      "execution_count": null,
      "outputs": [
        {
          "output_type": "stream",
          "text": [
            "ชื่อ อาธิติยา นามสกุล ธรรมวงษา รหัส 623021058-0\n",
            "เกรดวิชา Multivariate >>> A\n"
          ],
          "name": "stdout"
        }
      ]
    },
    {
      "cell_type": "code",
      "metadata": {
        "colab": {
          "base_uri": "https://localhost:8080/"
        },
        "id": "6zZBRWjCFifp",
        "outputId": "ea1cf7c3-de91-47b5-db2f-dc6c1e30e34c"
      },
      "source": [
        "print_name2(name='อาธิติยา', surname='ธรรมวงษา', ID='623021058-0')"
      ],
      "execution_count": null,
      "outputs": [
        {
          "output_type": "stream",
          "text": [
            "ชื่อ อาธิติยา นามสกุล ธรรมวงษา รหัส 623021058-0\n"
          ],
          "name": "stdout"
        }
      ]
    },
    {
      "cell_type": "markdown",
      "metadata": {
        "id": "bZCf0wlIGDGq"
      },
      "source": [
        "## HW3 ให้เขียน function คำนวณจำนวนวินาทีจากเวลาต่อไปนี้\r\n",
        "\r\n",
        "'14-15-31'\r\n",
        "\r\n",
        "'13-00-01'\r\n",
        "\r\n",
        "'05-49-44'\r\n",
        "\r\n",
        "'00-00-16'\r\n",
        "\r\n",
        "และ print ให้สวยงาม"
      ]
    },
    {
      "cell_type": "code",
      "metadata": {
        "id": "aeuIcX6NH-RU"
      },
      "source": [
        "def function_q(times):\r\n",
        "  q = f'เวลา {times}'\r\n",
        "  print(q)\r\n",
        "  times_sp = times.split('-')\r\n",
        "  answer = int(times_sp[0])*3600 + int(times_sp[1])*60 + int(times_sp[2])\r\n",
        "  print(f'คำนวณเป็นจำนวนวินาทีได้เท่ากับ {answer} วินาที')"
      ],
      "execution_count": null,
      "outputs": []
    },
    {
      "cell_type": "code",
      "metadata": {
        "id": "XCd-3KcNIEGo",
        "colab": {
          "base_uri": "https://localhost:8080/"
        },
        "outputId": "671f2096-bd4f-492e-82eb-1ba27f3530da"
      },
      "source": [
        "function_q('14-15-13')"
      ],
      "execution_count": null,
      "outputs": [
        {
          "output_type": "stream",
          "text": [
            "เวลา 14-15-13\n",
            "คำนวณเป็นจำนวนวินาทีได้เท่ากับ 51313 วินาที\n"
          ],
          "name": "stdout"
        }
      ]
    },
    {
      "cell_type": "code",
      "metadata": {
        "id": "0CbghrPLIDL-",
        "colab": {
          "base_uri": "https://localhost:8080/"
        },
        "outputId": "7b2dbf01-4989-4776-982e-9308eb603dc7"
      },
      "source": [
        "function_q('13-00-01')"
      ],
      "execution_count": null,
      "outputs": [
        {
          "output_type": "stream",
          "text": [
            "เวลา 13-00-01\n",
            "คำนวณเป็นจำนวนวินาทีได้เท่ากับ 46801 วินาที\n"
          ],
          "name": "stdout"
        }
      ]
    },
    {
      "cell_type": "code",
      "metadata": {
        "id": "jeXe1SSTIKbh",
        "colab": {
          "base_uri": "https://localhost:8080/"
        },
        "outputId": "816e153d-fdaf-478b-ab33-23f607265558"
      },
      "source": [
        "function_q('05-49-44')"
      ],
      "execution_count": null,
      "outputs": [
        {
          "output_type": "stream",
          "text": [
            "เวลา 05-49-44\n",
            "คำนวณเป็นจำนวนวินาทีได้เท่ากับ 20984 วินาที\n"
          ],
          "name": "stdout"
        }
      ]
    },
    {
      "cell_type": "code",
      "metadata": {
        "id": "PhmnJl-eIM1j",
        "colab": {
          "base_uri": "https://localhost:8080/"
        },
        "outputId": "749289e1-00a4-496e-dea2-b972544b6419"
      },
      "source": [
        "function_q('00-00-16')"
      ],
      "execution_count": null,
      "outputs": [
        {
          "output_type": "stream",
          "text": [
            "เวลา 00-00-16\n",
            "คำนวณเป็นจำนวนวินาทีได้เท่ากับ 16 วินาที\n"
          ],
          "name": "stdout"
        }
      ]
    },
    {
      "cell_type": "code",
      "metadata": {
        "id": "ohYw47A7IPG9"
      },
      "source": [
        ""
      ],
      "execution_count": null,
      "outputs": []
    },
    {
      "cell_type": "markdown",
      "metadata": {
        "id": "Sqq5BtnaQVf-"
      },
      "source": [
        "Numpy -> package สำหรับจัดการกับ Array ที่เป็นตัวเลข (Matrix)\r\n",
        "\r\n",
        "Num + py -> Number-numerical + python\r\n",
        "\r\n",
        "การใช้ package\r\n",
        "1. ```import ```  ```ชื่อ package ``` #เรียกใช้ package\r\n",
        "2. ```ชื่อ package.ชื่อฟังก์ชั่น ``` #เรียกใช้ function"
      ]
    },
    {
      "cell_type": "code",
      "metadata": {
        "id": "eZjbTd9WSVOc"
      },
      "source": [
        "import numpy"
      ],
      "execution_count": 1,
      "outputs": []
    },
    {
      "cell_type": "markdown",
      "metadata": {
        "id": "9G4eSzcxUG1D"
      },
      "source": [
        "สร้าง numpy array"
      ]
    },
    {
      "cell_type": "code",
      "metadata": {
        "id": "N5UkRxhgT5QA",
        "outputId": "f4f63d60-2b19-4697-95e8-33fe0329e4b7",
        "colab": {
          "base_uri": "https://localhost:8080/"
        }
      },
      "source": [
        "mat_ex1 = numpy.array([[5.2,3.0,4.5],[9.1,0.1,0.3]])\r\n",
        "print(mat_ex1)"
      ],
      "execution_count": 2,
      "outputs": [
        {
          "output_type": "stream",
          "text": [
            "[[5.2 3.  4.5]\n",
            " [9.1 0.1 0.3]]\n"
          ],
          "name": "stdout"
        }
      ]
    },
    {
      "cell_type": "markdown",
      "metadata": {
        "id": "jPRMgBdUWpYB"
      },
      "source": [
        "ชี้ค่า"
      ]
    },
    {
      "cell_type": "code",
      "metadata": {
        "id": "JpwCNEKwWm4K",
        "outputId": "13f61989-95ae-4c6e-9acf-c721c2454160",
        "colab": {
          "base_uri": "https://localhost:8080/"
        }
      },
      "source": [
        "mat_ex1[1,1]  #[แถว,หลัก]"
      ],
      "execution_count": 3,
      "outputs": [
        {
          "output_type": "execute_result",
          "data": {
            "text/plain": [
              "0.1"
            ]
          },
          "metadata": {
            "tags": []
          },
          "execution_count": 3
        }
      ]
    },
    {
      "cell_type": "code",
      "metadata": {
        "id": "RBzmGOV-W5tw"
      },
      "source": [
        "list_ex1 = [[5.2,3.0,4.5],[9.1,0.1,0.3]]"
      ],
      "execution_count": null,
      "outputs": []
    }
  ]
}